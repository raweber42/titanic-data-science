{
  "cells": [
    {
      "cell_type": "markdown",
      "metadata": {
        "id": "gG_DswiTlbAj"
      },
      "source": [
        "<h1><center><font size=\"6\">Classification</font></center></h1>\n",
        "\n"
      ]
    },
    {
      "cell_type": "markdown",
      "metadata": {
        "id": "GXW0NdKJzwKm"
      },
      "source": [
        "In your second homework you need to create a model that predicts which passengers survived the Titanic shipwreck."
      ]
    },
    {
      "cell_type": "code",
      "execution_count": 2,
      "metadata": {
        "_cell_guid": "b1076dfc-b9ad-4769-8c92-a6c4dae69d19",
        "_kg_hide-input": true,
        "_uuid": "8f2839f25d086af736a60e9eeb907d3b93b6e0e5",
        "id": "7R-UgUr7lbAr",
        "trusted": true
      },
      "outputs": [],
      "source": [
        "import pandas as pd\n",
        "import numpy as np\n",
        "import datetime\n",
        "import sys\n",
        "import os\n",
        "import random\n",
        "import matplotlib.pyplot as plt\n",
        "from sklearn.model_selection import train_test_split, KFold, GridSearchCV\n",
        "from sklearn import metrics"
      ]
    },
    {
      "cell_type": "code",
      "execution_count": 3,
      "metadata": {
        "_cell_guid": "79c7e3d0-c299-4dcb-8224-4455121ee9b0",
        "_kg_hide-input": true,
        "_uuid": "d629ff2d2480ee46fbb7e2d37f6b5fab8052498a",
        "id": "N_BhjxNKlbAs",
        "trusted": true
      },
      "outputs": [],
      "source": [
        "train_df=pd.read_csv('train.csv')\n",
        "test_df=pd.read_csv('test.csv')"
      ]
    },
    {
      "cell_type": "markdown",
      "metadata": {
        "_uuid": "55b41e17833da924475d38f9a8c22a1731efb8ab",
        "id": "iqEJo3vGlbAs"
      },
      "source": [
        "# <a id='3'>Data exploration</a>  \n",
        "\n",
        "We check the shape of train and test dataframes and also show a selection of rows, to have an initial understanding of the data.\n",
        "\n"
      ]
    },
    {
      "cell_type": "code",
      "execution_count": 4,
      "metadata": {
        "_kg_hide-input": true,
        "_uuid": "469fd9a6bba1521569b762a5030a1e1a50bff313",
        "colab": {
          "base_uri": "https://localhost:8080/",
          "height": 250
        },
        "id": "2wm530ZKlbAt",
        "outputId": "87879fb6-27f8-4dfc-9a8b-46722cdaa6e9",
        "trusted": true
      },
      "outputs": [
        {
          "data": {
            "text/html": [
              "<div>\n",
              "<style scoped>\n",
              "    .dataframe tbody tr th:only-of-type {\n",
              "        vertical-align: middle;\n",
              "    }\n",
              "\n",
              "    .dataframe tbody tr th {\n",
              "        vertical-align: top;\n",
              "    }\n",
              "\n",
              "    .dataframe thead th {\n",
              "        text-align: right;\n",
              "    }\n",
              "</style>\n",
              "<table border=\"1\" class=\"dataframe\">\n",
              "  <thead>\n",
              "    <tr style=\"text-align: right;\">\n",
              "      <th></th>\n",
              "      <th>PassengerId</th>\n",
              "      <th>Survived</th>\n",
              "      <th>Pclass</th>\n",
              "      <th>Name</th>\n",
              "      <th>Sex</th>\n",
              "      <th>Age</th>\n",
              "      <th>SibSp</th>\n",
              "      <th>Parch</th>\n",
              "      <th>Ticket</th>\n",
              "      <th>Fare</th>\n",
              "      <th>Cabin</th>\n",
              "      <th>Embarked</th>\n",
              "    </tr>\n",
              "  </thead>\n",
              "  <tbody>\n",
              "    <tr>\n",
              "      <th>563</th>\n",
              "      <td>564</td>\n",
              "      <td>0</td>\n",
              "      <td>3</td>\n",
              "      <td>Simmons, Mr. John</td>\n",
              "      <td>male</td>\n",
              "      <td>NaN</td>\n",
              "      <td>0</td>\n",
              "      <td>0</td>\n",
              "      <td>SOTON/OQ 392082</td>\n",
              "      <td>8.050</td>\n",
              "      <td>NaN</td>\n",
              "      <td>S</td>\n",
              "    </tr>\n",
              "    <tr>\n",
              "      <th>544</th>\n",
              "      <td>545</td>\n",
              "      <td>0</td>\n",
              "      <td>1</td>\n",
              "      <td>Douglas, Mr. Walter Donald</td>\n",
              "      <td>male</td>\n",
              "      <td>50.0</td>\n",
              "      <td>1</td>\n",
              "      <td>0</td>\n",
              "      <td>PC 17761</td>\n",
              "      <td>106.425</td>\n",
              "      <td>C86</td>\n",
              "      <td>C</td>\n",
              "    </tr>\n",
              "    <tr>\n",
              "      <th>46</th>\n",
              "      <td>47</td>\n",
              "      <td>0</td>\n",
              "      <td>3</td>\n",
              "      <td>Lennon, Mr. Denis</td>\n",
              "      <td>male</td>\n",
              "      <td>NaN</td>\n",
              "      <td>1</td>\n",
              "      <td>0</td>\n",
              "      <td>370371</td>\n",
              "      <td>15.500</td>\n",
              "      <td>NaN</td>\n",
              "      <td>Q</td>\n",
              "    </tr>\n",
              "    <tr>\n",
              "      <th>166</th>\n",
              "      <td>167</td>\n",
              "      <td>1</td>\n",
              "      <td>1</td>\n",
              "      <td>Chibnall, Mrs. (Edith Martha Bowerman)</td>\n",
              "      <td>female</td>\n",
              "      <td>NaN</td>\n",
              "      <td>0</td>\n",
              "      <td>1</td>\n",
              "      <td>113505</td>\n",
              "      <td>55.000</td>\n",
              "      <td>E33</td>\n",
              "      <td>S</td>\n",
              "    </tr>\n",
              "    <tr>\n",
              "      <th>204</th>\n",
              "      <td>205</td>\n",
              "      <td>1</td>\n",
              "      <td>3</td>\n",
              "      <td>Cohen, Mr. Gurshon \"Gus\"</td>\n",
              "      <td>male</td>\n",
              "      <td>18.0</td>\n",
              "      <td>0</td>\n",
              "      <td>0</td>\n",
              "      <td>A/5 3540</td>\n",
              "      <td>8.050</td>\n",
              "      <td>NaN</td>\n",
              "      <td>S</td>\n",
              "    </tr>\n",
              "  </tbody>\n",
              "</table>\n",
              "</div>"
            ],
            "text/plain": [
              "     PassengerId  Survived  Pclass                                    Name  \\\n",
              "563          564         0       3                       Simmons, Mr. John   \n",
              "544          545         0       1              Douglas, Mr. Walter Donald   \n",
              "46            47         0       3                       Lennon, Mr. Denis   \n",
              "166          167         1       1  Chibnall, Mrs. (Edith Martha Bowerman)   \n",
              "204          205         1       3                Cohen, Mr. Gurshon \"Gus\"   \n",
              "\n",
              "        Sex   Age  SibSp  Parch           Ticket     Fare Cabin Embarked  \n",
              "563    male   NaN      0      0  SOTON/OQ 392082    8.050   NaN        S  \n",
              "544    male  50.0      1      0         PC 17761  106.425   C86        C  \n",
              "46     male   NaN      1      0           370371   15.500   NaN        Q  \n",
              "166  female   NaN      0      1           113505   55.000   E33        S  \n",
              "204    male  18.0      0      0         A/5 3540    8.050   NaN        S  "
            ]
          },
          "execution_count": 4,
          "metadata": {},
          "output_type": "execute_result"
        }
      ],
      "source": [
        "train_df.sample(5).head()"
      ]
    },
    {
      "cell_type": "code",
      "execution_count": 5,
      "metadata": {
        "_kg_hide-input": true,
        "_uuid": "ec12616d56dfbf5a6d40d5c1f692321e7260e461",
        "colab": {
          "base_uri": "https://localhost:8080/",
          "height": 250
        },
        "id": "nLcNQuK3lbAt",
        "outputId": "47e93a61-70a7-4be8-9538-02bee4f5ec23",
        "trusted": true
      },
      "outputs": [
        {
          "data": {
            "text/html": [
              "<div>\n",
              "<style scoped>\n",
              "    .dataframe tbody tr th:only-of-type {\n",
              "        vertical-align: middle;\n",
              "    }\n",
              "\n",
              "    .dataframe tbody tr th {\n",
              "        vertical-align: top;\n",
              "    }\n",
              "\n",
              "    .dataframe thead th {\n",
              "        text-align: right;\n",
              "    }\n",
              "</style>\n",
              "<table border=\"1\" class=\"dataframe\">\n",
              "  <thead>\n",
              "    <tr style=\"text-align: right;\">\n",
              "      <th></th>\n",
              "      <th>PassengerId</th>\n",
              "      <th>Pclass</th>\n",
              "      <th>Name</th>\n",
              "      <th>Sex</th>\n",
              "      <th>Age</th>\n",
              "      <th>SibSp</th>\n",
              "      <th>Parch</th>\n",
              "      <th>Ticket</th>\n",
              "      <th>Fare</th>\n",
              "      <th>Cabin</th>\n",
              "      <th>Embarked</th>\n",
              "    </tr>\n",
              "  </thead>\n",
              "  <tbody>\n",
              "    <tr>\n",
              "      <th>1</th>\n",
              "      <td>893</td>\n",
              "      <td>3</td>\n",
              "      <td>Wilkes, Mrs. James (Ellen Needs)</td>\n",
              "      <td>female</td>\n",
              "      <td>47.0</td>\n",
              "      <td>1</td>\n",
              "      <td>0</td>\n",
              "      <td>363272</td>\n",
              "      <td>7.0000</td>\n",
              "      <td>NaN</td>\n",
              "      <td>S</td>\n",
              "    </tr>\n",
              "    <tr>\n",
              "      <th>91</th>\n",
              "      <td>983</td>\n",
              "      <td>3</td>\n",
              "      <td>Pedersen, Mr. Olaf</td>\n",
              "      <td>male</td>\n",
              "      <td>NaN</td>\n",
              "      <td>0</td>\n",
              "      <td>0</td>\n",
              "      <td>345498</td>\n",
              "      <td>7.7750</td>\n",
              "      <td>NaN</td>\n",
              "      <td>S</td>\n",
              "    </tr>\n",
              "    <tr>\n",
              "      <th>218</th>\n",
              "      <td>1110</td>\n",
              "      <td>1</td>\n",
              "      <td>Widener, Mrs. George Dunton (Eleanor Elkins)</td>\n",
              "      <td>female</td>\n",
              "      <td>50.0</td>\n",
              "      <td>1</td>\n",
              "      <td>1</td>\n",
              "      <td>113503</td>\n",
              "      <td>211.5000</td>\n",
              "      <td>C80</td>\n",
              "      <td>C</td>\n",
              "    </tr>\n",
              "    <tr>\n",
              "      <th>305</th>\n",
              "      <td>1197</td>\n",
              "      <td>1</td>\n",
              "      <td>Crosby, Mrs. Edward Gifford (Catherine Elizabe...</td>\n",
              "      <td>female</td>\n",
              "      <td>64.0</td>\n",
              "      <td>1</td>\n",
              "      <td>1</td>\n",
              "      <td>112901</td>\n",
              "      <td>26.5500</td>\n",
              "      <td>B26</td>\n",
              "      <td>S</td>\n",
              "    </tr>\n",
              "    <tr>\n",
              "      <th>321</th>\n",
              "      <td>1213</td>\n",
              "      <td>3</td>\n",
              "      <td>Krekorian, Mr. Neshan</td>\n",
              "      <td>male</td>\n",
              "      <td>25.0</td>\n",
              "      <td>0</td>\n",
              "      <td>0</td>\n",
              "      <td>2654</td>\n",
              "      <td>7.2292</td>\n",
              "      <td>F E57</td>\n",
              "      <td>C</td>\n",
              "    </tr>\n",
              "  </tbody>\n",
              "</table>\n",
              "</div>"
            ],
            "text/plain": [
              "     PassengerId  Pclass                                               Name  \\\n",
              "1            893       3                   Wilkes, Mrs. James (Ellen Needs)   \n",
              "91           983       3                                 Pedersen, Mr. Olaf   \n",
              "218         1110       1       Widener, Mrs. George Dunton (Eleanor Elkins)   \n",
              "305         1197       1  Crosby, Mrs. Edward Gifford (Catherine Elizabe...   \n",
              "321         1213       3                              Krekorian, Mr. Neshan   \n",
              "\n",
              "        Sex   Age  SibSp  Parch  Ticket      Fare  Cabin Embarked  \n",
              "1    female  47.0      1      0  363272    7.0000    NaN        S  \n",
              "91     male   NaN      0      0  345498    7.7750    NaN        S  \n",
              "218  female  50.0      1      1  113503  211.5000    C80        C  \n",
              "305  female  64.0      1      1  112901   26.5500    B26        S  \n",
              "321    male  25.0      0      0    2654    7.2292  F E57        C  "
            ]
          },
          "execution_count": 5,
          "metadata": {},
          "output_type": "execute_result"
        }
      ],
      "source": [
        "test_df.sample(5).head()"
      ]
    },
    {
      "cell_type": "code",
      "execution_count": 6,
      "metadata": {
        "_kg_hide-input": true,
        "_uuid": "0f3a03fce399eaeb0226728af285486d6f22abcd",
        "colab": {
          "base_uri": "https://localhost:8080/"
        },
        "id": "3ZR8jCBYlbAt",
        "outputId": "5ab1911b-ada3-4db1-94d7-b6da304c9c10",
        "trusted": true
      },
      "outputs": [
        {
          "name": "stdout",
          "output_type": "stream",
          "text": [
            "Train: rows:891 cols:12\n",
            "Test:  rows:418 cols:11\n"
          ]
        }
      ],
      "source": [
        "print(\"Train: rows:{} cols:{}\".format(train_df.shape[0], train_df.shape[1]))\n",
        "print(\"Test:  rows:{} cols:{}\".format(test_df.shape[0], test_df.shape[1]))"
      ]
    },
    {
      "cell_type": "markdown",
      "metadata": {
        "_uuid": "ccf999716af89faf72b86be24e800f41e38e48ec",
        "id": "RY47DxI3lbAu"
      },
      "source": [
        "Both **train** and **test** files contains the following values:  \n",
        "\n",
        "* **PassengerID** - the index of the passenger (in the dataset);  \n",
        "* **PClass** - the class of the passenger (from 1 to 3);\n",
        "* **Name** - the name of the passenger;\n",
        "* **Sex** - the sex of the passenger (female or male);  \n",
        "* **Age** - the age (where available) of the passenger;  \n",
        "* **SibSp** - the number of sibilings / spouses aboard of Titanic;  \n",
        "* **Parch** - the number of parents / children aboard of Titanic;  \n",
        "* **Ticket** - the ticket number;  \n",
        "* **Fare** - the passenger fare (ticket cost);  \n",
        "* **Cabin** - the cabin number;  \n",
        "* **Embarked** - the place of embarcation of the passenger (C = Cherbourg, Q = Queenstown, S = Southampton).  \n",
        "\n",
        "The **train** data has as well the target value, **Survived**.\n",
        "\n",
        "It is important to have a good understanding of the data before going to create a model. Therefore we will explore the features."
      ]
    },
    {
      "cell_type": "markdown",
      "metadata": {
        "_uuid": "0b743ae9ca2a88bce058759520878a2a0a76688a",
        "id": "wzx3q4XnlbAu"
      },
      "source": [
        "Let's start by checking if there are missing data and unlabeled data.\n",
        "\n",
        "Next, analyze the dependencies of the target variable on various features, such as Age, Sex, and so on, using approaches similar to those in the first homework.\n",
        "\n",
        "Draw conclusions about what affects whether the passenger survives, check the distribution of features in the train and test data. "
      ]
    },
    {
      "cell_type": "code",
      "execution_count": 19,
      "metadata": {
        "id": "ZCXEtfrz1KBh"
      },
      "outputs": [
        {
          "name": "stdout",
          "output_type": "stream",
          "text": [
            "How much percent of each columns do have valid values?\n",
            "Cabin          77.10\n",
            "Age            19.87\n",
            "Embarked        0.22\n",
            "PassengerId     0.00\n",
            "Survived        0.00\n",
            "Pclass          0.00\n",
            "Name            0.00\n",
            "Sex             0.00\n",
            "SibSp           0.00\n",
            "Parch           0.00\n",
            "Ticket          0.00\n",
            "Fare            0.00\n",
            "dtype: float64\n",
            "\n",
            "\n",
            "How many people survived?\n",
            "Survived\n",
            "0    61.6%\n",
            "1    38.4%\n",
            "Name: proportion, dtype: object\n"
          ]
        },
        {
          "data": {
            "image/png": "[encoded data removed]",
            "text/plain": [
              "<Figure size 640x480 with 1 Axes>"
            ]
          },
          "metadata": {},
          "output_type": "display_data"
        }
      ],
      "source": [
        "import seaborn as sns\n",
        "\n",
        "#Check which columns can be dropped because of too much missing data\n",
        "column_fill_percentage = train_df.isnull().mean().round(4).mul(100).sort_values(ascending=False)\n",
        "print(\"How much percent of each columns do have valid values?\")\n",
        "print(column_fill_percentage)\n",
        "print(\"\\n\")\n",
        "# @Keitlin: I would drop Cabin and decide on what to do with the age. Probably drop it too? Replacing the values with the median would be\n",
        "# an option too, but this could falsify some conclusions\n",
        "\n",
        "# How many people survived in total?\n",
        "survival_rate = train_df['Survived'].value_counts(normalize=True).mul(100).round(1).astype(str) + '%'\n",
        "print(\"How many people survived?\")\n",
        "print(survival_rate)\n",
        "\n",
        "# Children vs Adults vs old people\n",
        "def plot_survivors_by_age():\n",
        "   # Read the CSV file into a DataFrame\n",
        "   \n",
        "   # Create the histogram\n",
        "   sns.histplot(data=train_df, x='Age', hue='Survived', element='step', stat='count')\n",
        "   # Set the title and labels\n",
        "   plt.title('Number of Survivors by Age')\n",
        "   plt.xlabel('Age')\n",
        "   plt.ylabel('Number of Survivors')\n",
        "   \n",
        "   # Display the plot\n",
        "   plt.show()\n",
        "\n",
        "plot_survivors_by_age()"
      ]
    },
    {
      "cell_type": "markdown",
      "metadata": {
        "_uuid": "410a8017f065abc6ca809debe6d6314e29d9ec46",
        "id": "LWXUggWPlbAw"
      },
      "source": [
        "*Example:*\n",
        "From the total female passengers, *n*% survived.  \n",
        "In the same time, from the total male passengers, only m% survived."
      ]
    },
    {
      "cell_type": "markdown",
      "metadata": {
        "_uuid": "674450c7d711046ece6889cbe2923d4b2217e0ea",
        "id": "ptAx8aEclbA8"
      },
      "source": [
        "\n",
        "## <a id='50'>Split the data</a>  \n",
        "\n",
        "Let's split the training and validation set. We will use a 80-20 split. Don't forget to fix random_state. \n"
      ]
    },
    {
      "cell_type": "code",
      "execution_count": 37,
      "metadata": {
        "_kg_hide-input": true,
        "_uuid": "b4bbf9a7175f4bf24bc39192037768cf5926d04a",
        "id": "_3XnQw6BlbA8",
        "trusted": true
      },
      "outputs": [],
      "source": [
        "#your code is here\n",
        "train, validation = train_test_split()"
      ]
    },
    {
      "cell_type": "markdown",
      "metadata": {
        "_uuid": "87f2054b07681134ab6ce19d46f955fe5217a6d5",
        "id": "czTvS_cClbA8"
      },
      "source": [
        "\n",
        "## <a id='51'>Build a model</a>  "
      ]
    },
    {
      "cell_type": "markdown",
      "metadata": {
        "_uuid": "13d69dc08c0c8efdc4ae890ada0cd0b17f535125",
        "id": "dnGTphxclbA8"
      },
      "source": [
        "We will start with a simple model (baseline), with just two features, the `Sex` and `Pclass`. Create DesicionTreeClassifier and RandomForestClassifier, based on this features, without tuning parameters. \n",
        "\n",
        "Next, create two more complicated models: DesicionTreeClassifier and RandomForestClassifier with adding at least one feature you found useful as a result of your analysis.\n",
        "\n",
        "Find accuracy score for all models. Is it a good idea to use accuracy? Any suggestions about metrics? \n",
        "\n",
        "Then try to tune at least one parameter for every model using grid search and write down features and parameters, which gave you best score. "
      ]
    },
    {
      "cell_type": "code",
      "execution_count": 40,
      "metadata": {
        "id": "jMSkNGtXzg-B"
      },
      "outputs": [],
      "source": [
        "#your code is here"
      ]
    }
  ],
  "metadata": {
    "colab": {
      "provenance": []
    },
    "kernelspec": {
      "display_name": "Python 3",
      "language": "python",
      "name": "python3"
    },
    "language_info": {
      "codemirror_mode": {
        "name": "ipython",
        "version": 3
      },
      "file_extension": ".py",
      "mimetype": "text/x-python",
      "name": "python",
      "nbconvert_exporter": "python",
      "pygments_lexer": "ipython3",
      "version": "3.11.6"
    }
  },
  "nbformat": 4,
  "nbformat_minor": 0
}
