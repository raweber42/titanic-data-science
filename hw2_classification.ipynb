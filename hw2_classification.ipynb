{
  "cells": [
    {
      "cell_type": "markdown",
      "metadata": {
        "id": "gG_DswiTlbAj"
      },
      "source": [
        "<h1><center><font size=\"6\">Classification</font></center></h1>\n",
        "\n"
      ]
    },
    {
      "cell_type": "markdown",
      "metadata": {
        "id": "GXW0NdKJzwKm"
      },
      "source": [
        "In your second homework you need to create a model that predicts which passengers survived the Titanic shipwreck."
      ]
    },
    {
      "cell_type": "code",
      "execution_count": 185,
      "metadata": {
        "_cell_guid": "b1076dfc-b9ad-4769-8c92-a6c4dae69d19",
        "_kg_hide-input": true,
        "_uuid": "8f2839f25d086af736a60e9eeb907d3b93b6e0e5",
        "id": "7R-UgUr7lbAr",
        "trusted": true
      },
      "outputs": [],
      "source": [
        "import pandas as pd\n",
        "import numpy as np\n",
        "import datetime\n",
        "import sys\n",
        "import os\n",
        "import random\n",
        "import matplotlib.pyplot as plt\n",
        "from sklearn.model_selection import train_test_split, KFold, GridSearchCV\n",
        "from sklearn import metrics"
      ]
    },
    {
      "cell_type": "code",
      "execution_count": 186,
      "metadata": {
        "_cell_guid": "79c7e3d0-c299-4dcb-8224-4455121ee9b0",
        "_kg_hide-input": true,
        "_uuid": "d629ff2d2480ee46fbb7e2d37f6b5fab8052498a",
        "id": "N_BhjxNKlbAs",
        "trusted": true
      },
      "outputs": [],
      "source": [
        "train_df=pd.read_csv('train.csv')\n",
        "test_df=pd.read_csv('test.csv')"
      ]
    },
    {
      "cell_type": "markdown",
      "metadata": {
        "_uuid": "55b41e17833da924475d38f9a8c22a1731efb8ab",
        "id": "iqEJo3vGlbAs"
      },
      "source": [
        "# <a id='3'>Data exploration</a>  \n",
        "\n",
        "We check the shape of train and test dataframes and also show a selection of rows, to have an initial understanding of the data.\n",
        "\n"
      ]
    },
    {
      "cell_type": "code",
      "execution_count": 187,
      "metadata": {
        "_kg_hide-input": true,
        "_uuid": "469fd9a6bba1521569b762a5030a1e1a50bff313",
        "colab": {
          "base_uri": "https://localhost:8080/",
          "height": 250
        },
        "id": "2wm530ZKlbAt",
        "outputId": "87879fb6-27f8-4dfc-9a8b-46722cdaa6e9",
        "trusted": true
      },
      "outputs": [
        {
          "data": {
            "text/html": [
              "<div>\n",
              "<style scoped>\n",
              "    .dataframe tbody tr th:only-of-type {\n",
              "        vertical-align: middle;\n",
              "    }\n",
              "\n",
              "    .dataframe tbody tr th {\n",
              "        vertical-align: top;\n",
              "    }\n",
              "\n",
              "    .dataframe thead th {\n",
              "        text-align: right;\n",
              "    }\n",
              "</style>\n",
              "<table border=\"1\" class=\"dataframe\">\n",
              "  <thead>\n",
              "    <tr style=\"text-align: right;\">\n",
              "      <th></th>\n",
              "      <th>PassengerId</th>\n",
              "      <th>Survived</th>\n",
              "      <th>Pclass</th>\n",
              "      <th>Name</th>\n",
              "      <th>Sex</th>\n",
              "      <th>Age</th>\n",
              "      <th>SibSp</th>\n",
              "      <th>Parch</th>\n",
              "      <th>Ticket</th>\n",
              "      <th>Fare</th>\n",
              "      <th>Cabin</th>\n",
              "      <th>Embarked</th>\n",
              "    </tr>\n",
              "  </thead>\n",
              "  <tbody>\n",
              "    <tr>\n",
              "      <th>582</th>\n",
              "      <td>583</td>\n",
              "      <td>0</td>\n",
              "      <td>2</td>\n",
              "      <td>Downton, Mr. William James</td>\n",
              "      <td>male</td>\n",
              "      <td>54.0</td>\n",
              "      <td>0</td>\n",
              "      <td>0</td>\n",
              "      <td>28403</td>\n",
              "      <td>26.0000</td>\n",
              "      <td>NaN</td>\n",
              "      <td>S</td>\n",
              "    </tr>\n",
              "    <tr>\n",
              "      <th>202</th>\n",
              "      <td>203</td>\n",
              "      <td>0</td>\n",
              "      <td>3</td>\n",
              "      <td>Johanson, Mr. Jakob Alfred</td>\n",
              "      <td>male</td>\n",
              "      <td>34.0</td>\n",
              "      <td>0</td>\n",
              "      <td>0</td>\n",
              "      <td>3101264</td>\n",
              "      <td>6.4958</td>\n",
              "      <td>NaN</td>\n",
              "      <td>S</td>\n",
              "    </tr>\n",
              "    <tr>\n",
              "      <th>554</th>\n",
              "      <td>555</td>\n",
              "      <td>1</td>\n",
              "      <td>3</td>\n",
              "      <td>Ohman, Miss. Velin</td>\n",
              "      <td>female</td>\n",
              "      <td>22.0</td>\n",
              "      <td>0</td>\n",
              "      <td>0</td>\n",
              "      <td>347085</td>\n",
              "      <td>7.7750</td>\n",
              "      <td>NaN</td>\n",
              "      <td>S</td>\n",
              "    </tr>\n",
              "    <tr>\n",
              "      <th>401</th>\n",
              "      <td>402</td>\n",
              "      <td>0</td>\n",
              "      <td>3</td>\n",
              "      <td>Adams, Mr. John</td>\n",
              "      <td>male</td>\n",
              "      <td>26.0</td>\n",
              "      <td>0</td>\n",
              "      <td>0</td>\n",
              "      <td>341826</td>\n",
              "      <td>8.0500</td>\n",
              "      <td>NaN</td>\n",
              "      <td>S</td>\n",
              "    </tr>\n",
              "    <tr>\n",
              "      <th>123</th>\n",
              "      <td>124</td>\n",
              "      <td>1</td>\n",
              "      <td>2</td>\n",
              "      <td>Webber, Miss. Susan</td>\n",
              "      <td>female</td>\n",
              "      <td>32.5</td>\n",
              "      <td>0</td>\n",
              "      <td>0</td>\n",
              "      <td>27267</td>\n",
              "      <td>13.0000</td>\n",
              "      <td>E101</td>\n",
              "      <td>S</td>\n",
              "    </tr>\n",
              "  </tbody>\n",
              "</table>\n",
              "</div>"
            ],
            "text/plain": [
              "     PassengerId  Survived  Pclass                        Name     Sex   Age  \\\n",
              "582          583         0       2  Downton, Mr. William James    male  54.0   \n",
              "202          203         0       3  Johanson, Mr. Jakob Alfred    male  34.0   \n",
              "554          555         1       3          Ohman, Miss. Velin  female  22.0   \n",
              "401          402         0       3             Adams, Mr. John    male  26.0   \n",
              "123          124         1       2         Webber, Miss. Susan  female  32.5   \n",
              "\n",
              "     SibSp  Parch   Ticket     Fare Cabin Embarked  \n",
              "582      0      0    28403  26.0000   NaN        S  \n",
              "202      0      0  3101264   6.4958   NaN        S  \n",
              "554      0      0   347085   7.7750   NaN        S  \n",
              "401      0      0   341826   8.0500   NaN        S  \n",
              "123      0      0    27267  13.0000  E101        S  "
            ]
          },
          "execution_count": 187,
          "metadata": {},
          "output_type": "execute_result"
        }
      ],
      "source": [
        "train_df.sample(5).head()"
      ]
    },
    {
      "cell_type": "code",
      "execution_count": 188,
      "metadata": {
        "_kg_hide-input": true,
        "_uuid": "ec12616d56dfbf5a6d40d5c1f692321e7260e461",
        "colab": {
          "base_uri": "https://localhost:8080/",
          "height": 250
        },
        "id": "nLcNQuK3lbAt",
        "outputId": "47e93a61-70a7-4be8-9538-02bee4f5ec23",
        "trusted": true
      },
      "outputs": [
        {
          "data": {
            "text/html": [
              "<div>\n",
              "<style scoped>\n",
              "    .dataframe tbody tr th:only-of-type {\n",
              "        vertical-align: middle;\n",
              "    }\n",
              "\n",
              "    .dataframe tbody tr th {\n",
              "        vertical-align: top;\n",
              "    }\n",
              "\n",
              "    .dataframe thead th {\n",
              "        text-align: right;\n",
              "    }\n",
              "</style>\n",
              "<table border=\"1\" class=\"dataframe\">\n",
              "  <thead>\n",
              "    <tr style=\"text-align: right;\">\n",
              "      <th></th>\n",
              "      <th>PassengerId</th>\n",
              "      <th>Pclass</th>\n",
              "      <th>Name</th>\n",
              "      <th>Sex</th>\n",
              "      <th>Age</th>\n",
              "      <th>SibSp</th>\n",
              "      <th>Parch</th>\n",
              "      <th>Ticket</th>\n",
              "      <th>Fare</th>\n",
              "      <th>Cabin</th>\n",
              "      <th>Embarked</th>\n",
              "    </tr>\n",
              "  </thead>\n",
              "  <tbody>\n",
              "    <tr>\n",
              "      <th>219</th>\n",
              "      <td>1111</td>\n",
              "      <td>3</td>\n",
              "      <td>Thomson, Mr. Alexander Morrison</td>\n",
              "      <td>male</td>\n",
              "      <td>NaN</td>\n",
              "      <td>0</td>\n",
              "      <td>0</td>\n",
              "      <td>32302</td>\n",
              "      <td>8.050</td>\n",
              "      <td>NaN</td>\n",
              "      <td>S</td>\n",
              "    </tr>\n",
              "    <tr>\n",
              "      <th>144</th>\n",
              "      <td>1036</td>\n",
              "      <td>1</td>\n",
              "      <td>Lindeberg-Lind, Mr. Erik Gustaf (Mr Edward Lin...</td>\n",
              "      <td>male</td>\n",
              "      <td>42.0</td>\n",
              "      <td>0</td>\n",
              "      <td>0</td>\n",
              "      <td>17475</td>\n",
              "      <td>26.550</td>\n",
              "      <td>NaN</td>\n",
              "      <td>S</td>\n",
              "    </tr>\n",
              "    <tr>\n",
              "      <th>382</th>\n",
              "      <td>1274</td>\n",
              "      <td>3</td>\n",
              "      <td>Risien, Mrs. Samuel (Emma)</td>\n",
              "      <td>female</td>\n",
              "      <td>NaN</td>\n",
              "      <td>0</td>\n",
              "      <td>0</td>\n",
              "      <td>364498</td>\n",
              "      <td>14.500</td>\n",
              "      <td>NaN</td>\n",
              "      <td>S</td>\n",
              "    </tr>\n",
              "    <tr>\n",
              "      <th>97</th>\n",
              "      <td>989</td>\n",
              "      <td>3</td>\n",
              "      <td>Makinen, Mr. Kalle Edvard</td>\n",
              "      <td>male</td>\n",
              "      <td>29.0</td>\n",
              "      <td>0</td>\n",
              "      <td>0</td>\n",
              "      <td>STON/O 2. 3101268</td>\n",
              "      <td>7.925</td>\n",
              "      <td>NaN</td>\n",
              "      <td>S</td>\n",
              "    </tr>\n",
              "    <tr>\n",
              "      <th>196</th>\n",
              "      <td>1088</td>\n",
              "      <td>1</td>\n",
              "      <td>Spedden, Master. Robert Douglas</td>\n",
              "      <td>male</td>\n",
              "      <td>6.0</td>\n",
              "      <td>0</td>\n",
              "      <td>2</td>\n",
              "      <td>16966</td>\n",
              "      <td>134.500</td>\n",
              "      <td>E34</td>\n",
              "      <td>C</td>\n",
              "    </tr>\n",
              "  </tbody>\n",
              "</table>\n",
              "</div>"
            ],
            "text/plain": [
              "     PassengerId  Pclass                                               Name  \\\n",
              "219         1111       3                    Thomson, Mr. Alexander Morrison   \n",
              "144         1036       1  Lindeberg-Lind, Mr. Erik Gustaf (Mr Edward Lin...   \n",
              "382         1274       3                         Risien, Mrs. Samuel (Emma)   \n",
              "97           989       3                          Makinen, Mr. Kalle Edvard   \n",
              "196         1088       1                    Spedden, Master. Robert Douglas   \n",
              "\n",
              "        Sex   Age  SibSp  Parch             Ticket     Fare Cabin Embarked  \n",
              "219    male   NaN      0      0              32302    8.050   NaN        S  \n",
              "144    male  42.0      0      0              17475   26.550   NaN        S  \n",
              "382  female   NaN      0      0             364498   14.500   NaN        S  \n",
              "97     male  29.0      0      0  STON/O 2. 3101268    7.925   NaN        S  \n",
              "196    male   6.0      0      2              16966  134.500   E34        C  "
            ]
          },
          "execution_count": 188,
          "metadata": {},
          "output_type": "execute_result"
        }
      ],
      "source": [
        "test_df.sample(5).head()"
      ]
    },
    {
      "cell_type": "code",
      "execution_count": 189,
      "metadata": {
        "_kg_hide-input": true,
        "_uuid": "0f3a03fce399eaeb0226728af285486d6f22abcd",
        "colab": {
          "base_uri": "https://localhost:8080/"
        },
        "id": "3ZR8jCBYlbAt",
        "outputId": "5ab1911b-ada3-4db1-94d7-b6da304c9c10",
        "trusted": true
      },
      "outputs": [
        {
          "name": "stdout",
          "output_type": "stream",
          "text": [
            "Train: rows:891 cols:12\n",
            "Test:  rows:418 cols:11\n"
          ]
        }
      ],
      "source": [
        "print(\"Train: rows:{} cols:{}\".format(train_df.shape[0], train_df.shape[1]))\n",
        "print(\"Test:  rows:{} cols:{}\".format(test_df.shape[0], test_df.shape[1]))"
      ]
    },
    {
      "cell_type": "markdown",
      "metadata": {
        "_uuid": "ccf999716af89faf72b86be24e800f41e38e48ec",
        "id": "RY47DxI3lbAu"
      },
      "source": [
        "Both **train** and **test** files contains the following values:  \n",
        "\n",
        "* **PassengerID** - the index of the passenger (in the dataset);  \n",
        "* **PClass** - the class of the passenger (from 1 to 3);\n",
        "* **Name** - the name of the passenger;\n",
        "* **Sex** - the sex of the passenger (female or male);  \n",
        "* **Age** - the age (where available) of the passenger;  \n",
        "* **SibSp** - the number of sibilings / spouses aboard of Titanic;  \n",
        "* **Parch** - the number of parents / children aboard of Titanic;  \n",
        "* **Ticket** - the ticket number;  \n",
        "* **Fare** - the passenger fare (ticket cost);  \n",
        "* **Cabin** - the cabin number;  \n",
        "* **Embarked** - the place of embarcation of the passenger (C = Cherbourg, Q = Queenstown, S = Southampton).  \n",
        "\n",
        "The **train** data has as well the target value, **Survived**.\n",
        "\n",
        "It is important to have a good understanding of the data before going to create a model. Therefore we will explore the features."
      ]
    },
    {
      "cell_type": "markdown",
      "metadata": {
        "_uuid": "0b743ae9ca2a88bce058759520878a2a0a76688a",
        "id": "wzx3q4XnlbAu"
      },
      "source": [
        "Let's start by checking if there are missing data and unlabeled data.\n",
        "\n",
        "Next, analyze the dependencies of the target variable on various features, such as Age, Sex, and so on, using approaches similar to those in the first homework.\n",
        "\n",
        "Draw conclusions about what affects whether the passenger survives, check the distribution of features in the train and test data. "
      ]
    },
    {
      "cell_type": "code",
      "execution_count": 1,
      "metadata": {},
      "outputs": [
        {
          "ename": "NameError",
          "evalue": "name 'train_df' is not defined",
          "output_type": "error",
          "traceback": [
            "\u001b[0;31m---------------------------------------------------------------------------\u001b[0m",
            "\u001b[0;31mNameError\u001b[0m                                 Traceback (most recent call last)",
            "Cell \u001b[0;32mIn[1], line 1\u001b[0m\n\u001b[0;32m----> 1\u001b[0m \u001b[43mtrain_df\u001b[49m\u001b[38;5;241m.\u001b[39mdescribe()\n",
            "\u001b[0;31mNameError\u001b[0m: name 'train_df' is not defined"
          ]
        }
      ],
      "source": [
        "train_df.describe()"
      ]
    },
    {
      "cell_type": "code",
      "execution_count": 190,
      "metadata": {
        "id": "ZCXEtfrz1KBh"
      },
      "outputs": [
        {
          "name": "stdout",
          "output_type": "stream",
          "text": [
            "How much percent of each columns do have valid values?\n",
            "Cabin          77.10\n",
            "Age            19.87\n",
            "Embarked        0.22\n",
            "PassengerId     0.00\n",
            "Survived        0.00\n",
            "Pclass          0.00\n",
            "Name            0.00\n",
            "Sex             0.00\n",
            "SibSp           0.00\n",
            "Parch           0.00\n",
            "Ticket          0.00\n",
            "Fare            0.00\n",
            "dtype: float64\n"
          ]
        }
      ],
      "source": [
        "import seaborn as sns\n",
        "import math\n",
        "\n",
        "# Check how much fields are empty per column\n",
        "column_fill_percentage = train_df.isnull().mean().round(4).mul(100).sort_values(ascending=False)\n",
        "print(\"How much percent of each columns do have valid values?\")\n",
        "print(column_fill_percentage)"
      ]
    },
    {
      "cell_type": "code",
      "execution_count": 191,
      "metadata": {},
      "outputs": [
        {
          "name": "stdout",
          "output_type": "stream",
          "text": [
            "How many people survived?\n",
            "Survived\n",
            "0    61.6%\n",
            "1    38.4%\n",
            "Name: proportion, dtype: object\n"
          ]
        }
      ],
      "source": [
        "# How many people survived in total?\n",
        "survival_rate = train_df['Survived'].value_counts(normalize=True).mul(100).round(1).astype(str) + '%'\n",
        "print(\"How many people survived?\")\n",
        "print(survival_rate)"
      ]
    },
    {
      "cell_type": "code",
      "execution_count": 203,
      "metadata": {},
      "outputs": [
        {
          "name": "stderr",
          "output_type": "stream",
          "text": [
            "/var/folders/x5/7f0lfbm502v_dzg8xmhl5v5c0000gn/T/ipykernel_54518/1473187158.py:23: UserWarning: set_ticklabels() should only be used with a fixed number of ticks, i.e. after set_ticks() or using a FixedLocator.\n",
            "  ax.set_xticklabels(bin_labels)\n"
          ]
        },
        {
          "data": {
            "image/png": "[encoded data removed]",
            "text/plain": [
              "<Figure size 1000x500 with 1 Axes>"
            ]
          },
          "metadata": {},
          "output_type": "display_data"
        }
      ],
      "source": [
        "# Children vs Adults vs old people\n",
        "def plot_survivorship_by_age_batches(file_path): # DO THIS BEFORE NORMALIZING THE AGES (filling empty values with median of all ages)\n",
        "   df = pd.read_csv(file_path)\n",
        "\n",
        "   # Round up the maximum age to the nearest whole number\n",
        "   max_age = math.ceil(df['Age'].max())\n",
        "\n",
        "   # Define bins for better visualisation\n",
        "   bins = range(0, max_age, 5)\n",
        "   bin_labels = [f\"{bins[i]}-{bins[i+1]}\" for i in range(len(bins)-1)]\n",
        "   df['Age Batch'] = pd.cut(df['Age'], bins=bins, right=False)\n",
        "\n",
        "   df_survived = df[df['Survived'] == 1]\n",
        "\n",
        "   # Convert the interval index to a regular index\n",
        "   proportions = df_survived['Age Batch'].value_counts(normalize=True).mul(100).round(1)\n",
        "   proportions.index = np.array([i.mid for i in proportions.index])\n",
        "\n",
        "   # Create the bar plot\n",
        "   plt.figure(figsize=(10, 5))\n",
        "   ax = sns.barplot(x=proportions.index, y=proportions.values)\n",
        "   ax.set_xticklabels(bin_labels)\n",
        "\n",
        "\n",
        "   # Set the title and labels\n",
        "   plt.title('Percentage of Survivors by Age Batch')\n",
        "   plt.xlabel('Age Batch')\n",
        "   plt.ylabel('Percentage of Survivors')\n",
        "\n",
        "   # Display the plot\n",
        "   plt.show()\n",
        "\n",
        "\n",
        "\n",
        "plot_survivorship_by_age_batches(\"train.csv\")"
      ]
    },
    {
      "cell_type": "markdown",
      "metadata": {},
      "source": [
        "Apperantly people in the age range of 15-40 years were much more likely to survive. Also, babys and small children under 5 years where much more likely to survive."
      ]
    },
    {
      "cell_type": "code",
      "execution_count": 193,
      "metadata": {},
      "outputs": [
        {
          "data": {
            "text/html": [
              "<div>\n",
              "<style scoped>\n",
              "    .dataframe tbody tr th:only-of-type {\n",
              "        vertical-align: middle;\n",
              "    }\n",
              "\n",
              "    .dataframe tbody tr th {\n",
              "        vertical-align: top;\n",
              "    }\n",
              "\n",
              "    .dataframe thead th {\n",
              "        text-align: right;\n",
              "    }\n",
              "</style>\n",
              "<table border=\"1\" class=\"dataframe\">\n",
              "  <thead>\n",
              "    <tr style=\"text-align: right;\">\n",
              "      <th></th>\n",
              "      <th>PassengerId</th>\n",
              "      <th>Survived</th>\n",
              "      <th>Pclass</th>\n",
              "      <th>Name</th>\n",
              "      <th>Sex</th>\n",
              "      <th>Age</th>\n",
              "      <th>SibSp</th>\n",
              "      <th>Parch</th>\n",
              "      <th>Ticket</th>\n",
              "      <th>Fare</th>\n",
              "      <th>Cabin</th>\n",
              "      <th>Embarked</th>\n",
              "    </tr>\n",
              "  </thead>\n",
              "  <tbody>\n",
              "    <tr>\n",
              "      <th>0</th>\n",
              "      <td>1</td>\n",
              "      <td>0</td>\n",
              "      <td>3</td>\n",
              "      <td>Braund, Mr. Owen Harris</td>\n",
              "      <td>male</td>\n",
              "      <td>22.0</td>\n",
              "      <td>1</td>\n",
              "      <td>0</td>\n",
              "      <td>A/5 21171</td>\n",
              "      <td>7.2500</td>\n",
              "      <td>NaN</td>\n",
              "      <td>S</td>\n",
              "    </tr>\n",
              "    <tr>\n",
              "      <th>1</th>\n",
              "      <td>2</td>\n",
              "      <td>1</td>\n",
              "      <td>1</td>\n",
              "      <td>Cumings, Mrs. John Bradley (Florence Briggs Th...</td>\n",
              "      <td>female</td>\n",
              "      <td>38.0</td>\n",
              "      <td>1</td>\n",
              "      <td>0</td>\n",
              "      <td>PC 17599</td>\n",
              "      <td>71.2833</td>\n",
              "      <td>C85</td>\n",
              "      <td>C</td>\n",
              "    </tr>\n",
              "    <tr>\n",
              "      <th>2</th>\n",
              "      <td>3</td>\n",
              "      <td>1</td>\n",
              "      <td>3</td>\n",
              "      <td>Heikkinen, Miss. Laina</td>\n",
              "      <td>female</td>\n",
              "      <td>26.0</td>\n",
              "      <td>0</td>\n",
              "      <td>0</td>\n",
              "      <td>STON/O2. 3101282</td>\n",
              "      <td>7.9250</td>\n",
              "      <td>NaN</td>\n",
              "      <td>S</td>\n",
              "    </tr>\n",
              "    <tr>\n",
              "      <th>3</th>\n",
              "      <td>4</td>\n",
              "      <td>1</td>\n",
              "      <td>1</td>\n",
              "      <td>Futrelle, Mrs. Jacques Heath (Lily May Peel)</td>\n",
              "      <td>female</td>\n",
              "      <td>35.0</td>\n",
              "      <td>1</td>\n",
              "      <td>0</td>\n",
              "      <td>113803</td>\n",
              "      <td>53.1000</td>\n",
              "      <td>C123</td>\n",
              "      <td>S</td>\n",
              "    </tr>\n",
              "    <tr>\n",
              "      <th>4</th>\n",
              "      <td>5</td>\n",
              "      <td>0</td>\n",
              "      <td>3</td>\n",
              "      <td>Allen, Mr. William Henry</td>\n",
              "      <td>male</td>\n",
              "      <td>35.0</td>\n",
              "      <td>0</td>\n",
              "      <td>0</td>\n",
              "      <td>373450</td>\n",
              "      <td>8.0500</td>\n",
              "      <td>NaN</td>\n",
              "      <td>S</td>\n",
              "    </tr>\n",
              "    <tr>\n",
              "      <th>5</th>\n",
              "      <td>6</td>\n",
              "      <td>0</td>\n",
              "      <td>3</td>\n",
              "      <td>Moran, Mr. James</td>\n",
              "      <td>male</td>\n",
              "      <td>NaN</td>\n",
              "      <td>0</td>\n",
              "      <td>0</td>\n",
              "      <td>330877</td>\n",
              "      <td>8.4583</td>\n",
              "      <td>NaN</td>\n",
              "      <td>Q</td>\n",
              "    </tr>\n",
              "    <tr>\n",
              "      <th>6</th>\n",
              "      <td>7</td>\n",
              "      <td>0</td>\n",
              "      <td>1</td>\n",
              "      <td>McCarthy, Mr. Timothy J</td>\n",
              "      <td>male</td>\n",
              "      <td>54.0</td>\n",
              "      <td>0</td>\n",
              "      <td>0</td>\n",
              "      <td>17463</td>\n",
              "      <td>51.8625</td>\n",
              "      <td>E46</td>\n",
              "      <td>S</td>\n",
              "    </tr>\n",
              "    <tr>\n",
              "      <th>7</th>\n",
              "      <td>8</td>\n",
              "      <td>0</td>\n",
              "      <td>3</td>\n",
              "      <td>Palsson, Master. Gosta Leonard</td>\n",
              "      <td>male</td>\n",
              "      <td>2.0</td>\n",
              "      <td>3</td>\n",
              "      <td>1</td>\n",
              "      <td>349909</td>\n",
              "      <td>21.0750</td>\n",
              "      <td>NaN</td>\n",
              "      <td>S</td>\n",
              "    </tr>\n",
              "    <tr>\n",
              "      <th>8</th>\n",
              "      <td>9</td>\n",
              "      <td>1</td>\n",
              "      <td>3</td>\n",
              "      <td>Johnson, Mrs. Oscar W (Elisabeth Vilhelmina Berg)</td>\n",
              "      <td>female</td>\n",
              "      <td>27.0</td>\n",
              "      <td>0</td>\n",
              "      <td>2</td>\n",
              "      <td>347742</td>\n",
              "      <td>11.1333</td>\n",
              "      <td>NaN</td>\n",
              "      <td>S</td>\n",
              "    </tr>\n",
              "    <tr>\n",
              "      <th>9</th>\n",
              "      <td>10</td>\n",
              "      <td>1</td>\n",
              "      <td>2</td>\n",
              "      <td>Nasser, Mrs. Nicholas (Adele Achem)</td>\n",
              "      <td>female</td>\n",
              "      <td>14.0</td>\n",
              "      <td>1</td>\n",
              "      <td>0</td>\n",
              "      <td>237736</td>\n",
              "      <td>30.0708</td>\n",
              "      <td>NaN</td>\n",
              "      <td>C</td>\n",
              "    </tr>\n",
              "  </tbody>\n",
              "</table>\n",
              "</div>"
            ],
            "text/plain": [
              "   PassengerId  Survived  Pclass  \\\n",
              "0            1         0       3   \n",
              "1            2         1       1   \n",
              "2            3         1       3   \n",
              "3            4         1       1   \n",
              "4            5         0       3   \n",
              "5            6         0       3   \n",
              "6            7         0       1   \n",
              "7            8         0       3   \n",
              "8            9         1       3   \n",
              "9           10         1       2   \n",
              "\n",
              "                                                Name     Sex   Age  SibSp  \\\n",
              "0                            Braund, Mr. Owen Harris    male  22.0      1   \n",
              "1  Cumings, Mrs. John Bradley (Florence Briggs Th...  female  38.0      1   \n",
              "2                             Heikkinen, Miss. Laina  female  26.0      0   \n",
              "3       Futrelle, Mrs. Jacques Heath (Lily May Peel)  female  35.0      1   \n",
              "4                           Allen, Mr. William Henry    male  35.0      0   \n",
              "5                                   Moran, Mr. James    male   NaN      0   \n",
              "6                            McCarthy, Mr. Timothy J    male  54.0      0   \n",
              "7                     Palsson, Master. Gosta Leonard    male   2.0      3   \n",
              "8  Johnson, Mrs. Oscar W (Elisabeth Vilhelmina Berg)  female  27.0      0   \n",
              "9                Nasser, Mrs. Nicholas (Adele Achem)  female  14.0      1   \n",
              "\n",
              "   Parch            Ticket     Fare Cabin Embarked  \n",
              "0      0         A/5 21171   7.2500   NaN        S  \n",
              "1      0          PC 17599  71.2833   C85        C  \n",
              "2      0  STON/O2. 3101282   7.9250   NaN        S  \n",
              "3      0            113803  53.1000  C123        S  \n",
              "4      0            373450   8.0500   NaN        S  \n",
              "5      0            330877   8.4583   NaN        Q  \n",
              "6      0             17463  51.8625   E46        S  \n",
              "7      1            349909  21.0750   NaN        S  \n",
              "8      2            347742  11.1333   NaN        S  \n",
              "9      0            237736  30.0708   NaN        C  "
            ]
          },
          "execution_count": 193,
          "metadata": {},
          "output_type": "execute_result"
        }
      ],
      "source": [
        "### CLEAN UP DATA BEFORE RUNNING MODEL\n",
        "# Let's check what we have to normalize/throw out\n",
        "train_df.head(10)"
      ]
    },
    {
      "cell_type": "code",
      "execution_count": 194,
      "metadata": {},
      "outputs": [],
      "source": [
        "# What do we see above?\n",
        "# 1) A lot of columns to drop (because irrelevant)\n",
        "# 2) Sex is not numeric\n",
        "# 3) Some ages are missing (= 'nan')"
      ]
    },
    {
      "cell_type": "code",
      "execution_count": 195,
      "metadata": {},
      "outputs": [
        {
          "data": {
            "text/plain": [
              "0    22.000000\n",
              "1    38.000000\n",
              "2    26.000000\n",
              "3    35.000000\n",
              "4    35.000000\n",
              "5    29.699118\n",
              "6    54.000000\n",
              "7     2.000000\n",
              "8    27.000000\n",
              "9    14.000000\n",
              "Name: Age, dtype: float64"
            ]
          },
          "execution_count": 195,
          "metadata": {},
          "output_type": "execute_result"
        }
      ],
      "source": [
        "# Make sex numeric\n",
        "train_df['Sex'].replace(['female','male'],[0,1], inplace=True)\n",
        "\n",
        "# Remove non-numeric values (also apply common sense, e.g. the Cabin number can't be classified, as we don't have information on the location of cabins etc)\n",
        "train_df = train_df.drop(['PassengerId', 'Name', 'Ticket', 'Cabin', 'Embarked'], axis='columns')\n",
        "\n",
        "# We know that age is null quite often. Let's fill it with the mean of ages.\n",
        "train_df.Age.fillna(train_df.Age.mean(), inplace=True)\n",
        "train_df.isnull().any().any()\n",
        "\n",
        "# @KEITLIN: do this stuff in this box for test_df too"
      ]
    },
    {
      "cell_type": "code",
      "execution_count": 196,
      "metadata": {},
      "outputs": [
        {
          "data": {
            "text/html": [
              "<div>\n",
              "<style scoped>\n",
              "    .dataframe tbody tr th:only-of-type {\n",
              "        vertical-align: middle;\n",
              "    }\n",
              "\n",
              "    .dataframe tbody tr th {\n",
              "        vertical-align: top;\n",
              "    }\n",
              "\n",
              "    .dataframe thead th {\n",
              "        text-align: right;\n",
              "    }\n",
              "</style>\n",
              "<table border=\"1\" class=\"dataframe\">\n",
              "  <thead>\n",
              "    <tr style=\"text-align: right;\">\n",
              "      <th></th>\n",
              "      <th>Survived</th>\n",
              "      <th>Pclass</th>\n",
              "      <th>Sex</th>\n",
              "      <th>Age</th>\n",
              "      <th>SibSp</th>\n",
              "      <th>Parch</th>\n",
              "      <th>Fare</th>\n",
              "    </tr>\n",
              "  </thead>\n",
              "  <tbody>\n",
              "    <tr>\n",
              "      <th>0</th>\n",
              "      <td>0</td>\n",
              "      <td>3</td>\n",
              "      <td>1</td>\n",
              "      <td>22.000000</td>\n",
              "      <td>1</td>\n",
              "      <td>0</td>\n",
              "      <td>7.2500</td>\n",
              "    </tr>\n",
              "    <tr>\n",
              "      <th>1</th>\n",
              "      <td>1</td>\n",
              "      <td>1</td>\n",
              "      <td>0</td>\n",
              "      <td>38.000000</td>\n",
              "      <td>1</td>\n",
              "      <td>0</td>\n",
              "      <td>71.2833</td>\n",
              "    </tr>\n",
              "    <tr>\n",
              "      <th>2</th>\n",
              "      <td>1</td>\n",
              "      <td>3</td>\n",
              "      <td>0</td>\n",
              "      <td>26.000000</td>\n",
              "      <td>0</td>\n",
              "      <td>0</td>\n",
              "      <td>7.9250</td>\n",
              "    </tr>\n",
              "    <tr>\n",
              "      <th>3</th>\n",
              "      <td>1</td>\n",
              "      <td>1</td>\n",
              "      <td>0</td>\n",
              "      <td>35.000000</td>\n",
              "      <td>1</td>\n",
              "      <td>0</td>\n",
              "      <td>53.1000</td>\n",
              "    </tr>\n",
              "    <tr>\n",
              "      <th>4</th>\n",
              "      <td>0</td>\n",
              "      <td>3</td>\n",
              "      <td>1</td>\n",
              "      <td>35.000000</td>\n",
              "      <td>0</td>\n",
              "      <td>0</td>\n",
              "      <td>8.0500</td>\n",
              "    </tr>\n",
              "    <tr>\n",
              "      <th>5</th>\n",
              "      <td>0</td>\n",
              "      <td>3</td>\n",
              "      <td>1</td>\n",
              "      <td>29.699118</td>\n",
              "      <td>0</td>\n",
              "      <td>0</td>\n",
              "      <td>8.4583</td>\n",
              "    </tr>\n",
              "    <tr>\n",
              "      <th>6</th>\n",
              "      <td>0</td>\n",
              "      <td>1</td>\n",
              "      <td>1</td>\n",
              "      <td>54.000000</td>\n",
              "      <td>0</td>\n",
              "      <td>0</td>\n",
              "      <td>51.8625</td>\n",
              "    </tr>\n",
              "    <tr>\n",
              "      <th>7</th>\n",
              "      <td>0</td>\n",
              "      <td>3</td>\n",
              "      <td>1</td>\n",
              "      <td>2.000000</td>\n",
              "      <td>3</td>\n",
              "      <td>1</td>\n",
              "      <td>21.0750</td>\n",
              "    </tr>\n",
              "    <tr>\n",
              "      <th>8</th>\n",
              "      <td>1</td>\n",
              "      <td>3</td>\n",
              "      <td>0</td>\n",
              "      <td>27.000000</td>\n",
              "      <td>0</td>\n",
              "      <td>2</td>\n",
              "      <td>11.1333</td>\n",
              "    </tr>\n",
              "    <tr>\n",
              "      <th>9</th>\n",
              "      <td>1</td>\n",
              "      <td>2</td>\n",
              "      <td>0</td>\n",
              "      <td>14.000000</td>\n",
              "      <td>1</td>\n",
              "      <td>0</td>\n",
              "      <td>30.0708</td>\n",
              "    </tr>\n",
              "  </tbody>\n",
              "</table>\n",
              "</div>"
            ],
            "text/plain": [
              "   Survived  Pclass  Sex        Age  SibSp  Parch     Fare\n",
              "0         0       3    1  22.000000      1      0   7.2500\n",
              "1         1       1    0  38.000000      1      0  71.2833\n",
              "2         1       3    0  26.000000      0      0   7.9250\n",
              "3         1       1    0  35.000000      1      0  53.1000\n",
              "4         0       3    1  35.000000      0      0   8.0500\n",
              "5         0       3    1  29.699118      0      0   8.4583\n",
              "6         0       1    1  54.000000      0      0  51.8625\n",
              "7         0       3    1   2.000000      3      1  21.0750\n",
              "8         1       3    0  27.000000      0      2  11.1333\n",
              "9         1       2    0  14.000000      1      0  30.0708"
            ]
          },
          "execution_count": 196,
          "metadata": {},
          "output_type": "execute_result"
        }
      ],
      "source": [
        "# Much better now:\n",
        "train_df.head(10)"
      ]
    },
    {
      "cell_type": "markdown",
      "metadata": {
        "_uuid": "410a8017f065abc6ca809debe6d6314e29d9ec46",
        "id": "LWXUggWPlbAw"
      },
      "source": [
        "*Example:*\n",
        "From the total female passengers, *n*% survived.  \n",
        "In the same time, from the total male passengers, only m% survived."
      ]
    },
    {
      "cell_type": "markdown",
      "metadata": {
        "_uuid": "674450c7d711046ece6889cbe2923d4b2217e0ea",
        "id": "ptAx8aEclbA8"
      },
      "source": [
        "\n",
        "## <a id='50'>Split the data</a>  \n",
        "\n",
        "Let's split the training and validation set. We will use a 80-20 split. Don't forget to fix random_state. \n"
      ]
    },
    {
      "cell_type": "code",
      "execution_count": 197,
      "metadata": {
        "_kg_hide-input": true,
        "_uuid": "b4bbf9a7175f4bf24bc39192037768cf5926d04a",
        "id": "_3XnQw6BlbA8",
        "trusted": true
      },
      "outputs": [],
      "source": [
        "# NORMALIZE DATA BEFORE\n",
        "\n",
        "# In decision tree classification we drop the labled output from the main datasaet and save it as a target (for preticting future value)\n",
        "inputs = train_df[['Sex', 'Pclass']] # use only these, as it's required for the next task\n",
        "target = train_df.Survived\n",
        "\n",
        "# We split and set a random state, so that we get the same split every time we run this code\n",
        "X_train, X_val, y_train, y_val = train_test_split(inputs, target, test_size=0.2, random_state=42)"
      ]
    },
    {
      "cell_type": "markdown",
      "metadata": {
        "_uuid": "87f2054b07681134ab6ce19d46f955fe5217a6d5",
        "id": "czTvS_cClbA8"
      },
      "source": [
        "\n",
        "## <a id='51'>Build a model</a>  "
      ]
    },
    {
      "cell_type": "markdown",
      "metadata": {
        "_uuid": "13d69dc08c0c8efdc4ae890ada0cd0b17f535125",
        "id": "dnGTphxclbA8"
      },
      "source": [
        "We will start with a simple model (baseline), with just two features, the `Sex` and `Pclass`. Create DesicionTreeClassifier and RandomForestClassifier, based on this features, without tuning parameters. \n",
        "\n",
        "Next, create two more complicated models: DesicionTreeClassifier and RandomForestClassifier with adding at least one feature you found useful as a result of your analysis.\n",
        "\n",
        "Find accuracy score for all models. Is it a good idea to use accuracy? Any suggestions about metrics? \n",
        "\n",
        "Then try to tune at least one parameter for every model using grid search and write down features and parameters, which gave you best score. "
      ]
    },
    {
      "cell_type": "code",
      "execution_count": 198,
      "metadata": {
        "id": "jMSkNGtXzg-B"
      },
      "outputs": [],
      "source": [
        "from sklearn.tree import DecisionTreeClassifier\n",
        "from sklearn.ensemble import RandomForestClassifier\n",
        "\n",
        "decision_tree_model = DecisionTreeClassifier()\n",
        "random_forest_model = RandomForestClassifier()"
      ]
    },
    {
      "cell_type": "code",
      "execution_count": 199,
      "metadata": {},
      "outputs": [
        {
          "data": {
            "text/html": [
              "<style>#sk-container-id-7 {color: black;}#sk-container-id-7 pre{padding: 0;}#sk-container-id-7 div.sk-toggleable {background-color: white;}#sk-container-id-7 label.sk-toggleable__label {cursor: pointer;display: block;width: 100%;margin-bottom: 0;padding: 0.3em;box-sizing: border-box;text-align: center;}#sk-container-id-7 label.sk-toggleable__label-arrow:before {content: \"▸\";float: left;margin-right: 0.25em;color: #696969;}#sk-container-id-7 label.sk-toggleable__label-arrow:hover:before {color: black;}#sk-container-id-7 div.sk-estimator:hover label.sk-toggleable__label-arrow:before {color: black;}#sk-container-id-7 div.sk-toggleable__content {max-height: 0;max-width: 0;overflow: hidden;text-align: left;background-color: #f0f8ff;}#sk-container-id-7 div.sk-toggleable__content pre {margin: 0.2em;color: black;border-radius: 0.25em;background-color: #f0f8ff;}#sk-container-id-7 input.sk-toggleable__control:checked~div.sk-toggleable__content {max-height: 200px;max-width: 100%;overflow: auto;}#sk-container-id-7 input.sk-toggleable__control:checked~label.sk-toggleable__label-arrow:before {content: \"▾\";}#sk-container-id-7 div.sk-estimator input.sk-toggleable__control:checked~label.sk-toggleable__label {background-color: #d4ebff;}#sk-container-id-7 div.sk-label input.sk-toggleable__control:checked~label.sk-toggleable__label {background-color: #d4ebff;}#sk-container-id-7 input.sk-hidden--visually {border: 0;clip: rect(1px 1px 1px 1px);clip: rect(1px, 1px, 1px, 1px);height: 1px;margin: -1px;overflow: hidden;padding: 0;position: absolute;width: 1px;}#sk-container-id-7 div.sk-estimator {font-family: monospace;background-color: #f0f8ff;border: 1px dotted black;border-radius: 0.25em;box-sizing: border-box;margin-bottom: 0.5em;}#sk-container-id-7 div.sk-estimator:hover {background-color: #d4ebff;}#sk-container-id-7 div.sk-parallel-item::after {content: \"\";width: 100%;border-bottom: 1px solid gray;flex-grow: 1;}#sk-container-id-7 div.sk-label:hover label.sk-toggleable__label {background-color: #d4ebff;}#sk-container-id-7 div.sk-serial::before {content: \"\";position: absolute;border-left: 1px solid gray;box-sizing: border-box;top: 0;bottom: 0;left: 50%;z-index: 0;}#sk-container-id-7 div.sk-serial {display: flex;flex-direction: column;align-items: center;background-color: white;padding-right: 0.2em;padding-left: 0.2em;position: relative;}#sk-container-id-7 div.sk-item {position: relative;z-index: 1;}#sk-container-id-7 div.sk-parallel {display: flex;align-items: stretch;justify-content: center;background-color: white;position: relative;}#sk-container-id-7 div.sk-item::before, #sk-container-id-7 div.sk-parallel-item::before {content: \"\";position: absolute;border-left: 1px solid gray;box-sizing: border-box;top: 0;bottom: 0;left: 50%;z-index: -1;}#sk-container-id-7 div.sk-parallel-item {display: flex;flex-direction: column;z-index: 1;position: relative;background-color: white;}#sk-container-id-7 div.sk-parallel-item:first-child::after {align-self: flex-end;width: 50%;}#sk-container-id-7 div.sk-parallel-item:last-child::after {align-self: flex-start;width: 50%;}#sk-container-id-7 div.sk-parallel-item:only-child::after {width: 0;}#sk-container-id-7 div.sk-dashed-wrapped {border: 1px dashed gray;margin: 0 0.4em 0.5em 0.4em;box-sizing: border-box;padding-bottom: 0.4em;background-color: white;}#sk-container-id-7 div.sk-label label {font-family: monospace;font-weight: bold;display: inline-block;line-height: 1.2em;}#sk-container-id-7 div.sk-label-container {text-align: center;}#sk-container-id-7 div.sk-container {/* jupyter's `normalize.less` sets `[hidden] { display: none; }` but bootstrap.min.css set `[hidden] { display: none !important; }` so we also need the `!important` here to be able to override the default hidden behavior on the sphinx rendered scikit-learn.org. See: https://github.com/scikit-learn/scikit-learn/issues/21755 */display: inline-block !important;position: relative;}#sk-container-id-7 div.sk-text-repr-fallback {display: none;}</style><div id=\"sk-container-id-7\" class=\"sk-top-container\"><div class=\"sk-text-repr-fallback\"><pre>RandomForestClassifier()</pre><b>In a Jupyter environment, please rerun this cell to show the HTML representation or trust the notebook. <br />On GitHub, the HTML representation is unable to render, please try loading this page with nbviewer.org.</b></div><div class=\"sk-container\" hidden><div class=\"sk-item\"><div class=\"sk-estimator sk-toggleable\"><input class=\"sk-toggleable__control sk-hidden--visually\" id=\"sk-estimator-id-7\" type=\"checkbox\" checked><label for=\"sk-estimator-id-7\" class=\"sk-toggleable__label sk-toggleable__label-arrow\">RandomForestClassifier</label><div class=\"sk-toggleable__content\"><pre>RandomForestClassifier()</pre></div></div></div></div></div>"
            ],
            "text/plain": [
              "RandomForestClassifier()"
            ]
          },
          "execution_count": 199,
          "metadata": {},
          "output_type": "execute_result"
        }
      ],
      "source": [
        "# Train the model\n",
        "decision_tree_model.fit(X_train, y_train)\n",
        "random_forest_model.fit(X_train, y_train)"
      ]
    },
    {
      "cell_type": "code",
      "execution_count": 200,
      "metadata": {},
      "outputs": [
        {
          "name": "stdout",
          "output_type": "stream",
          "text": [
            "The decision tree model score is: 0.7653631284916201\n",
            "The random forest model score is: 0.7653631284916201\n"
          ]
        }
      ],
      "source": [
        "# Check how good the model works (compare to test data, accuracy score)\n",
        "print(f\"The decision tree model score is: {decision_tree_model.score(X_val, y_val)}\")\n",
        "print(f\"The random forest model score is: {random_forest_model.score(X_val, y_val)}\")"
      ]
    },
    {
      "cell_type": "markdown",
      "metadata": {},
      "source": [
        "### Why (not) use accuracy:\n",
        "Accuracy is a commonly used metric in machine learning to measure the performance of classification models. It calculates the proportion of correct predictions made by the model out of all predictions. However, accuracy can be misleading, particularly for imbalanced datasets where the majority class dominates the results. In such cases, a model that simply predicts the majority class will have high accuracy but is not useful for distinguishing between classes. Furthermore, accuracy does not account for the confidence of the predictions, which can be important in many applications. Therefore, while accuracy is a useful metric, it should not be the sole criterion for model evaluation. Other metrics such as precision, recall, F1 score, and area under the ROC curve (AUC-ROC) should also be considered to provide a more comprehensive understanding of model performance."
      ]
    },
    {
      "cell_type": "code",
      "execution_count": 201,
      "metadata": {},
      "outputs": [
        {
          "name": "stdout",
          "output_type": "stream",
          "text": [
            "The decision tree model score is: 0.776536312849162\n",
            "The random forest model score is: 0.7988826815642458\n"
          ]
        }
      ],
      "source": [
        "# NOW SECOND PART TRY, WITH NEW FEATURE:\n",
        "\n",
        "# Let's use 'Age' as an additional parameter, as this cleary had an influence on survival rates\n",
        "# In decision tree classification we drop the labled output from the main datasaet and save it as a target (for preticting future value)\n",
        "inputs = train_df[['Sex', 'Pclass', 'Age']]\n",
        "target = train_df.Survived\n",
        "\n",
        "# We split and set a random state, so that we get the same split every time we run this code\n",
        "X_train, X_val, y_train, y_val = train_test_split(inputs, target, test_size=0.2, random_state=42)\n",
        "\n",
        "# Train the model\n",
        "decision_tree_model.fit(X_train, y_train)\n",
        "random_forest_model.fit(X_train, y_train)\n",
        "\n",
        "# Check how good the model works (compare to test data)\n",
        "print(f\"The decision tree model score is: {decision_tree_model.score(X_val, y_val)}\")\n",
        "print(f\"The random forest model score is: {random_forest_model.score(X_val, y_val)}\")"
      ]
    },
    {
      "cell_type": "code",
      "execution_count": 166,
      "metadata": {},
      "outputs": [
        {
          "name": "stdout",
          "output_type": "stream",
          "text": [
            "Best parameters for Decision Tree:  {'max_depth': 5}\n",
            "Best parameters for Random Forest:  {'n_estimators': 100}\n"
          ]
        }
      ],
      "source": [
        "# Tune one parameter for each model using grid search.\n",
        "from sklearn.model_selection import GridSearchCV\n",
        "\n",
        "### Define the parameter values that should be searched\n",
        "# For 'max_depth', a common practice is to start with a small value (like 1 or 2) and gradually increase it while monitoring the model's performance. If the model starts to overfit the training data (i.e., it performs well on the training data but poorly on unseen data), increasing the 'max_depth' can help prevent overfitting by making the model less complex.\n",
        "param_grid_decision_tree = {'max_depth': np.arange(1, 10)}\n",
        "# For 'n_estimators', a larger number generally leads to a more accurate model, as it allows the model to learn from more data. However, a larger number of estimators also increases the computational cost and the risk of overfitting. Therefore, it's often a trade-off between accuracy and computational efficiency.\n",
        "param_grid_random_forest = {'n_estimators': np.arange(100, 500)}\n",
        "\n",
        "# Instantiate the grid\n",
        "grid_decision_tree = GridSearchCV(decision_tree_model, param_grid_decision_tree, cv=5)\n",
        "grid_random_forest = GridSearchCV(random_forest_model, param_grid_random_forest, cv=5)\n",
        "\n",
        "# Fit the grid with data\n",
        "grid_decision_tree.fit(X_train, y_train)\n",
        "grid_random_forest.fit(X_train, y_train)\n",
        "\n",
        "# Print the best parameters\n",
        "print(\"Best parameters for Decision Tree: \", grid_decision_tree.best_params_)\n",
        "print(\"Best parameters for Random Forest: \", grid_random_forest.best_params_)\n",
        "\n",
        "# THIS WILL TAKE TIME (~5 minutes!)\n",
        "# We are searching over a range of 9 values for the 'max_depth' parameter\n",
        "# of the DecisionTreeClassifier and 400 values for the 'n_estimators' parameter\n",
        "# of the RandomForestClassifier. This means that the total number of \n",
        "# models trained is 9 * 400 = 3600 models. \n",
        "# Each of these models needs to be trained on your entire dataset, \n",
        "# which can take a significant amount of time, especially if your dataset is large."
      ]
    },
    {
      "cell_type": "code",
      "execution_count": 172,
      "metadata": {},
      "outputs": [
        {
          "name": "stdout",
          "output_type": "stream",
          "text": [
            "The old decision tree model score is: 0.776536312849162\n",
            "The new decision tree model score is: 0.7821229050279329\n",
            "The old random forest model score is: 0.7988826815642458\n",
            "The new random forest model score is: 0.7988826815642458\n"
          ]
        }
      ],
      "source": [
        "from sklearn.metrics import accuracy_score\n",
        "\n",
        "# Assuming gs_dtree and gs_rf are your GridSearchCV objects\n",
        "best_decision_tree = grid_decision_tree.best_estimator_\n",
        "best_random_forest = grid_random_forest.best_estimator_\n",
        "\n",
        "# Check how good the model works (compare to test data)\n",
        "print(f\"The old decision tree model score is: {decision_tree_model.score(X_val, y_val)}\")\n",
        "print(f\"The new decision tree model score is: {best_decision_tree.score(X_val, y_val)}\")\n",
        "print(f\"The old random forest model score is: {random_forest_model.score(X_val, y_val)}\")\n",
        "print(f\"The new random forest model score is: {best_random_forest.score(X_val, y_val)}\")"
      ]
    },
    {
      "cell_type": "markdown",
      "metadata": {},
      "source": [
        "So above we can see that tuning the `max_depth` actually improved the accuracy, whereas there was no effect when tuning `n_estimators` for the random forest model. The latter is probably because 100 is the default value of the random_forest model, so explicitly setting it to 100 won't change anything."
      ]
    },
    {
      "cell_type": "markdown",
      "metadata": {},
      "source": []
    }
  ],
  "metadata": {
    "colab": {
      "provenance": []
    },
    "kernelspec": {
      "display_name": "Python 3",
      "language": "python",
      "name": "python3"
    },
    "language_info": {
      "codemirror_mode": {
        "name": "ipython",
        "version": 3
      },
      "file_extension": ".py",
      "mimetype": "text/x-python",
      "name": "python",
      "nbconvert_exporter": "python",
      "pygments_lexer": "ipython3",
      "version": "3.11.6"
    }
  },
  "nbformat": 4,
  "nbformat_minor": 0
}
