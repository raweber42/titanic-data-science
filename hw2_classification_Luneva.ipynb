{
 "cells": [
  {
   "cell_type": "markdown",
   "metadata": {
    "id": "gG_DswiTlbAj"
   },
   "source": [
    "<h1><center><font size=\"6\">Classification</font></center></h1>\n",
    "\n"
   ]
  },
  {
   "cell_type": "markdown",
   "metadata": {
    "id": "GXW0NdKJzwKm"
   },
   "source": [
    "In your second homework you need to create a model that predicts which passengers survived the Titanic shipwreck."
   ]
  },
  {
   "cell_type": "code",
   "execution_count": 1,
   "metadata": {
    "_cell_guid": "b1076dfc-b9ad-4769-8c92-a6c4dae69d19",
    "_kg_hide-input": true,
    "_uuid": "8f2839f25d086af736a60e9eeb907d3b93b6e0e5",
    "id": "7R-UgUr7lbAr"
   },
   "outputs": [],
   "source": [
    "import pandas as pd\n",
    "import numpy as np\n",
    "import datetime\n",
    "import sys\n",
    "import os\n",
    "import random\n",
    "import matplotlib.pyplot as plt\n",
    "import seaborn as sns\n",
    "from sklearn.model_selection import train_test_split, KFold, GridSearchCV\n",
    "from sklearn import metrics, preprocessing"
   ]
  },
  {
   "cell_type": "code",
   "execution_count": 2,
   "metadata": {
    "_cell_guid": "79c7e3d0-c299-4dcb-8224-4455121ee9b0",
    "_kg_hide-input": true,
    "_uuid": "d629ff2d2480ee46fbb7e2d37f6b5fab8052498a",
    "id": "N_BhjxNKlbAs"
   },
   "outputs": [],
   "source": [
    "train_df=pd.read_csv('train.csv')\n",
    "test_df=pd.read_csv('test.csv')"
   ]
  },
  {
   "cell_type": "markdown",
   "metadata": {
    "_uuid": "55b41e17833da924475d38f9a8c22a1731efb8ab",
    "id": "iqEJo3vGlbAs"
   },
   "source": [
    "# <a id='3'>Data exploration</a>  \n",
    "\n",
    "We check the shape of train and test dataframes and also show a selection of rows, to have an initial understanding of the data.\n",
    "\n"
   ]
  },
  {
   "cell_type": "code",
   "execution_count": 3,
   "metadata": {
    "_kg_hide-input": true,
    "_uuid": "469fd9a6bba1521569b762a5030a1e1a50bff313",
    "colab": {
     "base_uri": "https://localhost:8080/",
     "height": 250
    },
    "id": "2wm530ZKlbAt",
    "outputId": "87879fb6-27f8-4dfc-9a8b-46722cdaa6e9"
   },
   "outputs": [
    {
     "data": {
      "text/html": [
       "<div>\n",
       "<style scoped>\n",
       "    .dataframe tbody tr th:only-of-type {\n",
       "        vertical-align: middle;\n",
       "    }\n",
       "\n",
       "    .dataframe tbody tr th {\n",
       "        vertical-align: top;\n",
       "    }\n",
       "\n",
       "    .dataframe thead th {\n",
       "        text-align: right;\n",
       "    }\n",
       "</style>\n",
       "<table border=\"1\" class=\"dataframe\">\n",
       "  <thead>\n",
       "    <tr style=\"text-align: right;\">\n",
       "      <th></th>\n",
       "      <th>PassengerId</th>\n",
       "      <th>Survived</th>\n",
       "      <th>Pclass</th>\n",
       "      <th>Name</th>\n",
       "      <th>Sex</th>\n",
       "      <th>Age</th>\n",
       "      <th>SibSp</th>\n",
       "      <th>Parch</th>\n",
       "      <th>Ticket</th>\n",
       "      <th>Fare</th>\n",
       "      <th>Cabin</th>\n",
       "      <th>Embarked</th>\n",
       "    </tr>\n",
       "  </thead>\n",
       "  <tbody>\n",
       "    <tr>\n",
       "      <th>805</th>\n",
       "      <td>806</td>\n",
       "      <td>0</td>\n",
       "      <td>3</td>\n",
       "      <td>Johansson, Mr. Karl Johan</td>\n",
       "      <td>male</td>\n",
       "      <td>31.0</td>\n",
       "      <td>0</td>\n",
       "      <td>0</td>\n",
       "      <td>347063</td>\n",
       "      <td>7.7750</td>\n",
       "      <td>NaN</td>\n",
       "      <td>S</td>\n",
       "    </tr>\n",
       "    <tr>\n",
       "      <th>378</th>\n",
       "      <td>379</td>\n",
       "      <td>0</td>\n",
       "      <td>3</td>\n",
       "      <td>Betros, Mr. Tannous</td>\n",
       "      <td>male</td>\n",
       "      <td>20.0</td>\n",
       "      <td>0</td>\n",
       "      <td>0</td>\n",
       "      <td>2648</td>\n",
       "      <td>4.0125</td>\n",
       "      <td>NaN</td>\n",
       "      <td>C</td>\n",
       "    </tr>\n",
       "    <tr>\n",
       "      <th>223</th>\n",
       "      <td>224</td>\n",
       "      <td>0</td>\n",
       "      <td>3</td>\n",
       "      <td>Nenkoff, Mr. Christo</td>\n",
       "      <td>male</td>\n",
       "      <td>NaN</td>\n",
       "      <td>0</td>\n",
       "      <td>0</td>\n",
       "      <td>349234</td>\n",
       "      <td>7.8958</td>\n",
       "      <td>NaN</td>\n",
       "      <td>S</td>\n",
       "    </tr>\n",
       "    <tr>\n",
       "      <th>666</th>\n",
       "      <td>667</td>\n",
       "      <td>0</td>\n",
       "      <td>2</td>\n",
       "      <td>Butler, Mr. Reginald Fenton</td>\n",
       "      <td>male</td>\n",
       "      <td>25.0</td>\n",
       "      <td>0</td>\n",
       "      <td>0</td>\n",
       "      <td>234686</td>\n",
       "      <td>13.0000</td>\n",
       "      <td>NaN</td>\n",
       "      <td>S</td>\n",
       "    </tr>\n",
       "    <tr>\n",
       "      <th>55</th>\n",
       "      <td>56</td>\n",
       "      <td>1</td>\n",
       "      <td>1</td>\n",
       "      <td>Woolner, Mr. Hugh</td>\n",
       "      <td>male</td>\n",
       "      <td>NaN</td>\n",
       "      <td>0</td>\n",
       "      <td>0</td>\n",
       "      <td>19947</td>\n",
       "      <td>35.5000</td>\n",
       "      <td>C52</td>\n",
       "      <td>S</td>\n",
       "    </tr>\n",
       "  </tbody>\n",
       "</table>\n",
       "</div>"
      ],
      "text/plain": [
       "     PassengerId  Survived  Pclass                         Name   Sex   Age  \\\n",
       "805          806         0       3    Johansson, Mr. Karl Johan  male  31.0   \n",
       "378          379         0       3          Betros, Mr. Tannous  male  20.0   \n",
       "223          224         0       3         Nenkoff, Mr. Christo  male   NaN   \n",
       "666          667         0       2  Butler, Mr. Reginald Fenton  male  25.0   \n",
       "55            56         1       1            Woolner, Mr. Hugh  male   NaN   \n",
       "\n",
       "     SibSp  Parch  Ticket     Fare Cabin Embarked  \n",
       "805      0      0  347063   7.7750   NaN        S  \n",
       "378      0      0    2648   4.0125   NaN        C  \n",
       "223      0      0  349234   7.8958   NaN        S  \n",
       "666      0      0  234686  13.0000   NaN        S  \n",
       "55       0      0   19947  35.5000   C52        S  "
      ]
     },
     "execution_count": 3,
     "metadata": {},
     "output_type": "execute_result"
    }
   ],
   "source": [
    "train_df.sample(5).head()"
   ]
  },
  {
   "cell_type": "code",
   "execution_count": 4,
   "metadata": {
    "_kg_hide-input": true,
    "_uuid": "ec12616d56dfbf5a6d40d5c1f692321e7260e461",
    "colab": {
     "base_uri": "https://localhost:8080/",
     "height": 250
    },
    "id": "nLcNQuK3lbAt",
    "outputId": "47e93a61-70a7-4be8-9538-02bee4f5ec23"
   },
   "outputs": [
    {
     "data": {
      "text/html": [
       "<div>\n",
       "<style scoped>\n",
       "    .dataframe tbody tr th:only-of-type {\n",
       "        vertical-align: middle;\n",
       "    }\n",
       "\n",
       "    .dataframe tbody tr th {\n",
       "        vertical-align: top;\n",
       "    }\n",
       "\n",
       "    .dataframe thead th {\n",
       "        text-align: right;\n",
       "    }\n",
       "</style>\n",
       "<table border=\"1\" class=\"dataframe\">\n",
       "  <thead>\n",
       "    <tr style=\"text-align: right;\">\n",
       "      <th></th>\n",
       "      <th>PassengerId</th>\n",
       "      <th>Pclass</th>\n",
       "      <th>Name</th>\n",
       "      <th>Sex</th>\n",
       "      <th>Age</th>\n",
       "      <th>SibSp</th>\n",
       "      <th>Parch</th>\n",
       "      <th>Ticket</th>\n",
       "      <th>Fare</th>\n",
       "      <th>Cabin</th>\n",
       "      <th>Embarked</th>\n",
       "    </tr>\n",
       "  </thead>\n",
       "  <tbody>\n",
       "    <tr>\n",
       "      <th>36</th>\n",
       "      <td>928</td>\n",
       "      <td>3</td>\n",
       "      <td>Roth, Miss. Sarah A</td>\n",
       "      <td>female</td>\n",
       "      <td>NaN</td>\n",
       "      <td>0</td>\n",
       "      <td>0</td>\n",
       "      <td>342712</td>\n",
       "      <td>8.0500</td>\n",
       "      <td>NaN</td>\n",
       "      <td>S</td>\n",
       "    </tr>\n",
       "    <tr>\n",
       "      <th>84</th>\n",
       "      <td>976</td>\n",
       "      <td>2</td>\n",
       "      <td>Lamb, Mr. John Joseph</td>\n",
       "      <td>male</td>\n",
       "      <td>NaN</td>\n",
       "      <td>0</td>\n",
       "      <td>0</td>\n",
       "      <td>240261</td>\n",
       "      <td>10.7083</td>\n",
       "      <td>NaN</td>\n",
       "      <td>Q</td>\n",
       "    </tr>\n",
       "    <tr>\n",
       "      <th>254</th>\n",
       "      <td>1146</td>\n",
       "      <td>3</td>\n",
       "      <td>Wenzel, Mr. Linhart</td>\n",
       "      <td>male</td>\n",
       "      <td>32.5</td>\n",
       "      <td>0</td>\n",
       "      <td>0</td>\n",
       "      <td>345775</td>\n",
       "      <td>9.5000</td>\n",
       "      <td>NaN</td>\n",
       "      <td>S</td>\n",
       "    </tr>\n",
       "    <tr>\n",
       "      <th>2</th>\n",
       "      <td>894</td>\n",
       "      <td>2</td>\n",
       "      <td>Myles, Mr. Thomas Francis</td>\n",
       "      <td>male</td>\n",
       "      <td>62.0</td>\n",
       "      <td>0</td>\n",
       "      <td>0</td>\n",
       "      <td>240276</td>\n",
       "      <td>9.6875</td>\n",
       "      <td>NaN</td>\n",
       "      <td>Q</td>\n",
       "    </tr>\n",
       "    <tr>\n",
       "      <th>402</th>\n",
       "      <td>1294</td>\n",
       "      <td>1</td>\n",
       "      <td>Gibson, Miss. Dorothy Winifred</td>\n",
       "      <td>female</td>\n",
       "      <td>22.0</td>\n",
       "      <td>0</td>\n",
       "      <td>1</td>\n",
       "      <td>112378</td>\n",
       "      <td>59.4000</td>\n",
       "      <td>NaN</td>\n",
       "      <td>C</td>\n",
       "    </tr>\n",
       "  </tbody>\n",
       "</table>\n",
       "</div>"
      ],
      "text/plain": [
       "     PassengerId  Pclass                            Name     Sex   Age  SibSp  \\\n",
       "36           928       3             Roth, Miss. Sarah A  female   NaN      0   \n",
       "84           976       2           Lamb, Mr. John Joseph    male   NaN      0   \n",
       "254         1146       3             Wenzel, Mr. Linhart    male  32.5      0   \n",
       "2            894       2       Myles, Mr. Thomas Francis    male  62.0      0   \n",
       "402         1294       1  Gibson, Miss. Dorothy Winifred  female  22.0      0   \n",
       "\n",
       "     Parch  Ticket     Fare Cabin Embarked  \n",
       "36       0  342712   8.0500   NaN        S  \n",
       "84       0  240261  10.7083   NaN        Q  \n",
       "254      0  345775   9.5000   NaN        S  \n",
       "2        0  240276   9.6875   NaN        Q  \n",
       "402      1  112378  59.4000   NaN        C  "
      ]
     },
     "execution_count": 4,
     "metadata": {},
     "output_type": "execute_result"
    }
   ],
   "source": [
    "test_df.sample(5).head()"
   ]
  },
  {
   "cell_type": "code",
   "execution_count": 5,
   "metadata": {
    "_kg_hide-input": true,
    "_uuid": "0f3a03fce399eaeb0226728af285486d6f22abcd",
    "colab": {
     "base_uri": "https://localhost:8080/"
    },
    "id": "3ZR8jCBYlbAt",
    "outputId": "5ab1911b-ada3-4db1-94d7-b6da304c9c10"
   },
   "outputs": [
    {
     "name": "stdout",
     "output_type": "stream",
     "text": [
      "Train: rows:891 cols:12\n",
      "Test:  rows:418 cols:11\n"
     ]
    }
   ],
   "source": [
    "print(\"Train: rows:{} cols:{}\".format(train_df.shape[0], train_df.shape[1]))\n",
    "print(\"Test:  rows:{} cols:{}\".format(test_df.shape[0], test_df.shape[1]))"
   ]
  },
  {
   "cell_type": "markdown",
   "metadata": {
    "_uuid": "ccf999716af89faf72b86be24e800f41e38e48ec",
    "id": "RY47DxI3lbAu"
   },
   "source": [
    "Both **train** and **test** files contains the following values:  \n",
    "\n",
    "* **PassengerID** - the index of the passenger (in the dataset);  \n",
    "* **PClass** - the class of the passenger (from 1 to 3);\n",
    "* **Name** - the name of the passenger;\n",
    "* **Sex** - the sex of the passenger (female or male);  \n",
    "* **Age** - the age (where available) of the passenger;  \n",
    "* **SibSp** - the number of sibilings / spouses aboard of Titanic;  \n",
    "* **Parch** - the number of parents / children aboard of Titanic;  \n",
    "* **Ticket** - the ticket number;  \n",
    "* **Fare** - the passenger fare (ticket cost);  \n",
    "* **Cabin** - the cabin number;  \n",
    "* **Embarked** - the place of embarcation of the passenger (C = Cherbourg, Q = Queenstown, S = Southampton).  \n",
    "\n",
    "The **train** data has as well the target value, **Survived**.\n",
    "\n",
    "It is important to have a good understanding of the data before going to create a model. Therefore we will explore the features."
   ]
  },
  {
   "cell_type": "markdown",
   "metadata": {
    "_uuid": "0b743ae9ca2a88bce058759520878a2a0a76688a",
    "id": "wzx3q4XnlbAu"
   },
   "source": [
    "Let's start by checking if there are missing data and unlabeled data.\n",
    "\n",
    "Next, analyze the dependencies of the target variable on various features, such as Age, Sex, and so on, using approaches similar to those in the first homework.\n",
    "\n",
    "Draw conclusions about what affects whether the passenger survives, check the distribution of features in the train and test data."
   ]
  },
  {
   "cell_type": "code",
   "execution_count": 6,
   "metadata": {},
   "outputs": [
    {
     "data": {
      "text/html": [
       "<div>\n",
       "<style scoped>\n",
       "    .dataframe tbody tr th:only-of-type {\n",
       "        vertical-align: middle;\n",
       "    }\n",
       "\n",
       "    .dataframe tbody tr th {\n",
       "        vertical-align: top;\n",
       "    }\n",
       "\n",
       "    .dataframe thead th {\n",
       "        text-align: right;\n",
       "    }\n",
       "</style>\n",
       "<table border=\"1\" class=\"dataframe\">\n",
       "  <thead>\n",
       "    <tr style=\"text-align: right;\">\n",
       "      <th></th>\n",
       "      <th>PassengerId</th>\n",
       "      <th>Survived</th>\n",
       "      <th>Pclass</th>\n",
       "      <th>Age</th>\n",
       "      <th>SibSp</th>\n",
       "      <th>Parch</th>\n",
       "      <th>Fare</th>\n",
       "    </tr>\n",
       "  </thead>\n",
       "  <tbody>\n",
       "    <tr>\n",
       "      <th>count</th>\n",
       "      <td>891.000000</td>\n",
       "      <td>891.000000</td>\n",
       "      <td>891.000000</td>\n",
       "      <td>714.000000</td>\n",
       "      <td>891.000000</td>\n",
       "      <td>891.000000</td>\n",
       "      <td>891.000000</td>\n",
       "    </tr>\n",
       "    <tr>\n",
       "      <th>mean</th>\n",
       "      <td>446.000000</td>\n",
       "      <td>0.383838</td>\n",
       "      <td>2.308642</td>\n",
       "      <td>29.699118</td>\n",
       "      <td>0.523008</td>\n",
       "      <td>0.381594</td>\n",
       "      <td>32.204208</td>\n",
       "    </tr>\n",
       "    <tr>\n",
       "      <th>std</th>\n",
       "      <td>257.353842</td>\n",
       "      <td>0.486592</td>\n",
       "      <td>0.836071</td>\n",
       "      <td>14.526497</td>\n",
       "      <td>1.102743</td>\n",
       "      <td>0.806057</td>\n",
       "      <td>49.693429</td>\n",
       "    </tr>\n",
       "    <tr>\n",
       "      <th>min</th>\n",
       "      <td>1.000000</td>\n",
       "      <td>0.000000</td>\n",
       "      <td>1.000000</td>\n",
       "      <td>0.420000</td>\n",
       "      <td>0.000000</td>\n",
       "      <td>0.000000</td>\n",
       "      <td>0.000000</td>\n",
       "    </tr>\n",
       "    <tr>\n",
       "      <th>25%</th>\n",
       "      <td>223.500000</td>\n",
       "      <td>0.000000</td>\n",
       "      <td>2.000000</td>\n",
       "      <td>20.125000</td>\n",
       "      <td>0.000000</td>\n",
       "      <td>0.000000</td>\n",
       "      <td>7.910400</td>\n",
       "    </tr>\n",
       "    <tr>\n",
       "      <th>50%</th>\n",
       "      <td>446.000000</td>\n",
       "      <td>0.000000</td>\n",
       "      <td>3.000000</td>\n",
       "      <td>28.000000</td>\n",
       "      <td>0.000000</td>\n",
       "      <td>0.000000</td>\n",
       "      <td>14.454200</td>\n",
       "    </tr>\n",
       "    <tr>\n",
       "      <th>75%</th>\n",
       "      <td>668.500000</td>\n",
       "      <td>1.000000</td>\n",
       "      <td>3.000000</td>\n",
       "      <td>38.000000</td>\n",
       "      <td>1.000000</td>\n",
       "      <td>0.000000</td>\n",
       "      <td>31.000000</td>\n",
       "    </tr>\n",
       "    <tr>\n",
       "      <th>max</th>\n",
       "      <td>891.000000</td>\n",
       "      <td>1.000000</td>\n",
       "      <td>3.000000</td>\n",
       "      <td>80.000000</td>\n",
       "      <td>8.000000</td>\n",
       "      <td>6.000000</td>\n",
       "      <td>512.329200</td>\n",
       "    </tr>\n",
       "  </tbody>\n",
       "</table>\n",
       "</div>"
      ],
      "text/plain": [
       "       PassengerId    Survived      Pclass         Age       SibSp  \\\n",
       "count   891.000000  891.000000  891.000000  714.000000  891.000000   \n",
       "mean    446.000000    0.383838    2.308642   29.699118    0.523008   \n",
       "std     257.353842    0.486592    0.836071   14.526497    1.102743   \n",
       "min       1.000000    0.000000    1.000000    0.420000    0.000000   \n",
       "25%     223.500000    0.000000    2.000000   20.125000    0.000000   \n",
       "50%     446.000000    0.000000    3.000000   28.000000    0.000000   \n",
       "75%     668.500000    1.000000    3.000000   38.000000    1.000000   \n",
       "max     891.000000    1.000000    3.000000   80.000000    8.000000   \n",
       "\n",
       "            Parch        Fare  \n",
       "count  891.000000  891.000000  \n",
       "mean     0.381594   32.204208  \n",
       "std      0.806057   49.693429  \n",
       "min      0.000000    0.000000  \n",
       "25%      0.000000    7.910400  \n",
       "50%      0.000000   14.454200  \n",
       "75%      0.000000   31.000000  \n",
       "max      6.000000  512.329200  "
      ]
     },
     "execution_count": 6,
     "metadata": {},
     "output_type": "execute_result"
    }
   ],
   "source": [
    "#your code is here\n",
    "\n",
    "train_df.describe()"
   ]
  },
  {
   "cell_type": "code",
   "execution_count": 7,
   "metadata": {
    "id": "ZCXEtfrz1KBh"
   },
   "outputs": [
    {
     "data": {
      "text/plain": [
       "PassengerId      0\n",
       "Survived         0\n",
       "Pclass           0\n",
       "Name             0\n",
       "Sex              0\n",
       "Age            177\n",
       "SibSp            0\n",
       "Parch            0\n",
       "Ticket           0\n",
       "Fare             0\n",
       "Cabin          687\n",
       "Embarked         2\n",
       "dtype: int64"
      ]
     },
     "execution_count": 7,
     "metadata": {},
     "output_type": "execute_result"
    }
   ],
   "source": [
    "train_df.isnull().sum()"
   ]
  },
  {
   "cell_type": "code",
   "execution_count": 8,
   "metadata": {},
   "outputs": [
    {
     "data": {
      "text/plain": [
       "Age         0.198653\n",
       "Cabin       0.771044\n",
       "Embarked    0.002245\n",
       "dtype: float64"
      ]
     },
     "execution_count": 8,
     "metadata": {},
     "output_type": "execute_result"
    }
   ],
   "source": [
    "train_df.isnull().sum()[train_df.isnull().sum() != 0]/891"
   ]
  },
  {
   "cell_type": "code",
   "execution_count": 9,
   "metadata": {},
   "outputs": [
    {
     "data": {
      "text/plain": [
       "S    644\n",
       "C    168\n",
       "Q     77\n",
       "Name: Embarked, dtype: int64"
      ]
     },
     "execution_count": 9,
     "metadata": {},
     "output_type": "execute_result"
    }
   ],
   "source": [
    "train_df['Embarked'].value_counts()"
   ]
  },
  {
   "cell_type": "code",
   "execution_count": 10,
   "metadata": {},
   "outputs": [
    {
     "data": {
      "text/html": [
       "<div>\n",
       "<style scoped>\n",
       "    .dataframe tbody tr th:only-of-type {\n",
       "        vertical-align: middle;\n",
       "    }\n",
       "\n",
       "    .dataframe tbody tr th {\n",
       "        vertical-align: top;\n",
       "    }\n",
       "\n",
       "    .dataframe thead th {\n",
       "        text-align: right;\n",
       "    }\n",
       "</style>\n",
       "<table border=\"1\" class=\"dataframe\">\n",
       "  <thead>\n",
       "    <tr style=\"text-align: right;\">\n",
       "      <th></th>\n",
       "      <th>PassengerId</th>\n",
       "      <th>Pclass</th>\n",
       "      <th>Age</th>\n",
       "      <th>SibSp</th>\n",
       "      <th>Parch</th>\n",
       "      <th>Fare</th>\n",
       "    </tr>\n",
       "  </thead>\n",
       "  <tbody>\n",
       "    <tr>\n",
       "      <th>count</th>\n",
       "      <td>418.000000</td>\n",
       "      <td>418.000000</td>\n",
       "      <td>332.000000</td>\n",
       "      <td>418.000000</td>\n",
       "      <td>418.000000</td>\n",
       "      <td>417.000000</td>\n",
       "    </tr>\n",
       "    <tr>\n",
       "      <th>mean</th>\n",
       "      <td>1100.500000</td>\n",
       "      <td>2.265550</td>\n",
       "      <td>30.272590</td>\n",
       "      <td>0.447368</td>\n",
       "      <td>0.392344</td>\n",
       "      <td>35.627188</td>\n",
       "    </tr>\n",
       "    <tr>\n",
       "      <th>std</th>\n",
       "      <td>120.810458</td>\n",
       "      <td>0.841838</td>\n",
       "      <td>14.181209</td>\n",
       "      <td>0.896760</td>\n",
       "      <td>0.981429</td>\n",
       "      <td>55.907576</td>\n",
       "    </tr>\n",
       "    <tr>\n",
       "      <th>min</th>\n",
       "      <td>892.000000</td>\n",
       "      <td>1.000000</td>\n",
       "      <td>0.170000</td>\n",
       "      <td>0.000000</td>\n",
       "      <td>0.000000</td>\n",
       "      <td>0.000000</td>\n",
       "    </tr>\n",
       "    <tr>\n",
       "      <th>25%</th>\n",
       "      <td>996.250000</td>\n",
       "      <td>1.000000</td>\n",
       "      <td>21.000000</td>\n",
       "      <td>0.000000</td>\n",
       "      <td>0.000000</td>\n",
       "      <td>7.895800</td>\n",
       "    </tr>\n",
       "    <tr>\n",
       "      <th>50%</th>\n",
       "      <td>1100.500000</td>\n",
       "      <td>3.000000</td>\n",
       "      <td>27.000000</td>\n",
       "      <td>0.000000</td>\n",
       "      <td>0.000000</td>\n",
       "      <td>14.454200</td>\n",
       "    </tr>\n",
       "    <tr>\n",
       "      <th>75%</th>\n",
       "      <td>1204.750000</td>\n",
       "      <td>3.000000</td>\n",
       "      <td>39.000000</td>\n",
       "      <td>1.000000</td>\n",
       "      <td>0.000000</td>\n",
       "      <td>31.500000</td>\n",
       "    </tr>\n",
       "    <tr>\n",
       "      <th>max</th>\n",
       "      <td>1309.000000</td>\n",
       "      <td>3.000000</td>\n",
       "      <td>76.000000</td>\n",
       "      <td>8.000000</td>\n",
       "      <td>9.000000</td>\n",
       "      <td>512.329200</td>\n",
       "    </tr>\n",
       "  </tbody>\n",
       "</table>\n",
       "</div>"
      ],
      "text/plain": [
       "       PassengerId      Pclass         Age       SibSp       Parch        Fare\n",
       "count   418.000000  418.000000  332.000000  418.000000  418.000000  417.000000\n",
       "mean   1100.500000    2.265550   30.272590    0.447368    0.392344   35.627188\n",
       "std     120.810458    0.841838   14.181209    0.896760    0.981429   55.907576\n",
       "min     892.000000    1.000000    0.170000    0.000000    0.000000    0.000000\n",
       "25%     996.250000    1.000000   21.000000    0.000000    0.000000    7.895800\n",
       "50%    1100.500000    3.000000   27.000000    0.000000    0.000000   14.454200\n",
       "75%    1204.750000    3.000000   39.000000    1.000000    0.000000   31.500000\n",
       "max    1309.000000    3.000000   76.000000    8.000000    9.000000  512.329200"
      ]
     },
     "execution_count": 10,
     "metadata": {},
     "output_type": "execute_result"
    }
   ],
   "source": [
    "test_df.describe()"
   ]
  },
  {
   "cell_type": "code",
   "execution_count": 11,
   "metadata": {},
   "outputs": [
    {
     "data": {
      "text/plain": [
       "PassengerId      0\n",
       "Pclass           0\n",
       "Name             0\n",
       "Sex              0\n",
       "Age             86\n",
       "SibSp            0\n",
       "Parch            0\n",
       "Ticket           0\n",
       "Fare             1\n",
       "Cabin          327\n",
       "Embarked         0\n",
       "dtype: int64"
      ]
     },
     "execution_count": 11,
     "metadata": {},
     "output_type": "execute_result"
    }
   ],
   "source": [
    "test_df.isnull().sum()"
   ]
  },
  {
   "cell_type": "code",
   "execution_count": 12,
   "metadata": {
    "scrolled": true
   },
   "outputs": [
    {
     "data": {
      "text/plain": [
       "Age      0.205742\n",
       "Fare     0.002392\n",
       "Cabin    0.782297\n",
       "dtype: float64"
      ]
     },
     "execution_count": 12,
     "metadata": {},
     "output_type": "execute_result"
    }
   ],
   "source": [
    "test_df.isnull().sum()[test_df.isnull().sum() != 0]/418"
   ]
  },
  {
   "cell_type": "markdown",
   "metadata": {},
   "source": [
    "According to data occupancy, feature with almost 80% missing data is Cabin, so there is no sense to fill it with any values, as this will distort the results. Missing data in Age and Fare features can be filled by mean (average) or median values, while for Embarked feature it is optimal to choose the most frequent value, as it is a categorical feature."
   ]
  },
  {
   "cell_type": "code",
   "execution_count": 13,
   "metadata": {},
   "outputs": [
    {
     "data": {
      "text/plain": [
       "28.0"
      ]
     },
     "execution_count": 13,
     "metadata": {},
     "output_type": "execute_result"
    }
   ],
   "source": [
    "train_df['Age'].median()"
   ]
  },
  {
   "cell_type": "code",
   "execution_count": 14,
   "metadata": {},
   "outputs": [
    {
     "data": {
      "text/plain": [
       "29.69911764705882"
      ]
     },
     "execution_count": 14,
     "metadata": {},
     "output_type": "execute_result"
    }
   ],
   "source": [
    "train_df['Age'].mean()"
   ]
  },
  {
   "cell_type": "code",
   "execution_count": 15,
   "metadata": {},
   "outputs": [
    {
     "data": {
      "text/plain": [
       "14.4542"
      ]
     },
     "execution_count": 15,
     "metadata": {},
     "output_type": "execute_result"
    }
   ],
   "source": [
    "test_df['Fare'].median()"
   ]
  },
  {
   "cell_type": "code",
   "execution_count": 16,
   "metadata": {},
   "outputs": [
    {
     "data": {
      "text/plain": [
       "35.6271884892086"
      ]
     },
     "execution_count": 16,
     "metadata": {},
     "output_type": "execute_result"
    }
   ],
   "source": [
    "test_df['Fare'].mean()"
   ]
  },
  {
   "cell_type": "code",
   "execution_count": 17,
   "metadata": {},
   "outputs": [],
   "source": [
    "train_df['Age'].fillna(train_df['Age'].mean(), inplace=True)\n",
    "train_df['Embarked'].fillna('S', inplace=True)\n",
    "train_df.drop('Cabin', axis=1, inplace=True)"
   ]
  },
  {
   "cell_type": "code",
   "execution_count": 18,
   "metadata": {},
   "outputs": [],
   "source": [
    "test_df['Age'].fillna(test_df['Age'].mean(), inplace=True)\n",
    "test_df['Fare'].fillna(test_df['Fare'].median(), inplace=True)\n",
    "test_df.drop('Cabin', axis=1, inplace=True)"
   ]
  },
  {
   "cell_type": "code",
   "execution_count": 19,
   "metadata": {},
   "outputs": [
    {
     "data": {
      "text/plain": [
       "False"
      ]
     },
     "execution_count": 19,
     "metadata": {},
     "output_type": "execute_result"
    }
   ],
   "source": [
    "# Check that all mising values in train_df are filled\n",
    "\n",
    "train_df.isnull().any().any()"
   ]
  },
  {
   "cell_type": "code",
   "execution_count": 20,
   "metadata": {},
   "outputs": [
    {
     "data": {
      "text/plain": [
       "False"
      ]
     },
     "execution_count": 20,
     "metadata": {},
     "output_type": "execute_result"
    }
   ],
   "source": [
    "# Check that all mising values in test_df are filled\n",
    "\n",
    "test_df.isnull().any().any()"
   ]
  },
  {
   "cell_type": "markdown",
   "metadata": {},
   "source": [
    "To check if there are any hidden missing values, value_counts() function can be used."
   ]
  },
  {
   "cell_type": "code",
   "execution_count": 21,
   "metadata": {},
   "outputs": [
    {
     "name": "stdout",
     "output_type": "stream",
     "text": [
      "Distribution of values for PassengerId feature:\n",
      "1      1\n",
      "599    1\n",
      "588    1\n",
      "589    1\n",
      "590    1\n",
      "      ..\n",
      "301    1\n",
      "302    1\n",
      "303    1\n",
      "304    1\n",
      "891    1\n",
      "Name: PassengerId, Length: 891, dtype: int64\n",
      "\n",
      "\n",
      "Distribution of values for Survived feature:\n",
      "0    549\n",
      "1    342\n",
      "Name: Survived, dtype: int64\n",
      "\n",
      "\n",
      "Distribution of values for Pclass feature:\n",
      "3    491\n",
      "1    216\n",
      "2    184\n",
      "Name: Pclass, dtype: int64\n",
      "\n",
      "\n",
      "Distribution of values for Name feature:\n",
      "Braund, Mr. Owen Harris                     1\n",
      "Boulos, Mr. Hanna                           1\n",
      "Frolicher-Stehli, Mr. Maxmillian            1\n",
      "Gilinski, Mr. Eliezer                       1\n",
      "Murdlin, Mr. Joseph                         1\n",
      "                                           ..\n",
      "Kelly, Miss. Anna Katherine \"Annie Kate\"    1\n",
      "McCoy, Mr. Bernard                          1\n",
      "Johnson, Mr. William Cahoone Jr             1\n",
      "Keane, Miss. Nora A                         1\n",
      "Dooley, Mr. Patrick                         1\n",
      "Name: Name, Length: 891, dtype: int64\n",
      "\n",
      "\n",
      "Distribution of values for Sex feature:\n",
      "male      577\n",
      "female    314\n",
      "Name: Sex, dtype: int64\n",
      "\n",
      "\n",
      "Distribution of values for Age feature:\n",
      "29.699118    177\n",
      "24.000000     30\n",
      "22.000000     27\n",
      "18.000000     26\n",
      "28.000000     25\n",
      "            ... \n",
      "36.500000      1\n",
      "55.500000      1\n",
      "0.920000       1\n",
      "23.500000      1\n",
      "74.000000      1\n",
      "Name: Age, Length: 89, dtype: int64\n",
      "\n",
      "\n",
      "Distribution of values for SibSp feature:\n",
      "0    608\n",
      "1    209\n",
      "2     28\n",
      "4     18\n",
      "3     16\n",
      "8      7\n",
      "5      5\n",
      "Name: SibSp, dtype: int64\n",
      "\n",
      "\n",
      "Distribution of values for Parch feature:\n",
      "0    678\n",
      "1    118\n",
      "2     80\n",
      "5      5\n",
      "3      5\n",
      "4      4\n",
      "6      1\n",
      "Name: Parch, dtype: int64\n",
      "\n",
      "\n",
      "Distribution of values for Ticket feature:\n",
      "347082      7\n",
      "CA. 2343    7\n",
      "1601        7\n",
      "3101295     6\n",
      "CA 2144     6\n",
      "           ..\n",
      "9234        1\n",
      "19988       1\n",
      "2693        1\n",
      "PC 17612    1\n",
      "370376      1\n",
      "Name: Ticket, Length: 681, dtype: int64\n",
      "\n",
      "\n",
      "Distribution of values for Fare feature:\n",
      "8.0500     43\n",
      "13.0000    42\n",
      "7.8958     38\n",
      "7.7500     34\n",
      "26.0000    31\n",
      "           ..\n",
      "35.0000     1\n",
      "28.5000     1\n",
      "6.2375      1\n",
      "14.0000     1\n",
      "10.5167     1\n",
      "Name: Fare, Length: 248, dtype: int64\n",
      "\n",
      "\n",
      "Distribution of values for Embarked feature:\n",
      "S    646\n",
      "C    168\n",
      "Q     77\n",
      "Name: Embarked, dtype: int64\n",
      "\n",
      "\n"
     ]
    }
   ],
   "source": [
    "# train_df\n",
    "\n",
    "for feature in (train_df.columns):\n",
    "    print('Distribution of values for {} feature:'.format(feature))\n",
    "    print(train_df[feature].value_counts())\n",
    "    print('\\n')"
   ]
  },
  {
   "cell_type": "code",
   "execution_count": 22,
   "metadata": {},
   "outputs": [
    {
     "name": "stdout",
     "output_type": "stream",
     "text": [
      "Distribution of values for PassengerId feature:\n",
      "892     1\n",
      "1205    1\n",
      "1177    1\n",
      "1176    1\n",
      "1175    1\n",
      "       ..\n",
      "1028    1\n",
      "1027    1\n",
      "1026    1\n",
      "1025    1\n",
      "1309    1\n",
      "Name: PassengerId, Length: 418, dtype: int64\n",
      "\n",
      "\n",
      "Distribution of values for Pclass feature:\n",
      "3    218\n",
      "1    107\n",
      "2     93\n",
      "Name: Pclass, dtype: int64\n",
      "\n",
      "\n",
      "Distribution of values for Name feature:\n",
      "Kelly, Mr. James               1\n",
      "Carr, Miss. Jeannie            1\n",
      "Dennis, Mr. William            1\n",
      "Rosblom, Miss. Salli Helena    1\n",
      "Touma, Miss. Maria Youssef     1\n",
      "                              ..\n",
      "Zakarian, Mr. Mapriededer      1\n",
      "Carlsson, Mr. Carl Robert      1\n",
      "Dintcheff, Mr. Valtcho         1\n",
      "Thomas, Mr. Charles P          1\n",
      "Peter, Master. Michael J       1\n",
      "Name: Name, Length: 418, dtype: int64\n",
      "\n",
      "\n",
      "Distribution of values for Sex feature:\n",
      "male      266\n",
      "female    152\n",
      "Name: Sex, dtype: int64\n",
      "\n",
      "\n",
      "Distribution of values for Age feature:\n",
      "30.27259    86\n",
      "24.00000    17\n",
      "21.00000    17\n",
      "22.00000    16\n",
      "30.00000    15\n",
      "            ..\n",
      "76.00000     1\n",
      "28.50000     1\n",
      "22.50000     1\n",
      "62.00000     1\n",
      "38.50000     1\n",
      "Name: Age, Length: 80, dtype: int64\n",
      "\n",
      "\n",
      "Distribution of values for SibSp feature:\n",
      "0    283\n",
      "1    110\n",
      "2     14\n",
      "3      4\n",
      "4      4\n",
      "8      2\n",
      "5      1\n",
      "Name: SibSp, dtype: int64\n",
      "\n",
      "\n",
      "Distribution of values for Parch feature:\n",
      "0    324\n",
      "1     52\n",
      "2     33\n",
      "3      3\n",
      "4      2\n",
      "9      2\n",
      "6      1\n",
      "5      1\n",
      "Name: Parch, dtype: int64\n",
      "\n",
      "\n",
      "Distribution of values for Ticket feature:\n",
      "PC 17608    5\n",
      "CA. 2343    4\n",
      "113503      4\n",
      "PC 17483    3\n",
      "220845      3\n",
      "           ..\n",
      "349226      1\n",
      "2621        1\n",
      "4133        1\n",
      "113780      1\n",
      "2668        1\n",
      "Name: Ticket, Length: 363, dtype: int64\n",
      "\n",
      "\n",
      "Distribution of values for Fare feature:\n",
      "7.7500     21\n",
      "26.0000    19\n",
      "13.0000    17\n",
      "8.0500     17\n",
      "7.8958     11\n",
      "           ..\n",
      "7.8208      1\n",
      "8.5167      1\n",
      "78.8500     1\n",
      "52.0000     1\n",
      "22.3583     1\n",
      "Name: Fare, Length: 169, dtype: int64\n",
      "\n",
      "\n",
      "Distribution of values for Embarked feature:\n",
      "S    270\n",
      "C    102\n",
      "Q     46\n",
      "Name: Embarked, dtype: int64\n",
      "\n",
      "\n"
     ]
    }
   ],
   "source": [
    "# test_df\n",
    "\n",
    "for feature in (test_df.columns):\n",
    "    print('Distribution of values for {} feature:'.format(feature))\n",
    "    print(test_df[feature].value_counts())\n",
    "    print('\\n')"
   ]
  },
  {
   "cell_type": "code",
   "execution_count": 23,
   "metadata": {},
   "outputs": [
    {
     "data": {
      "text/plain": [
       "PassengerId   -0.005007\n",
       "Pclass        -0.338481\n",
       "Age           -0.069809\n",
       "SibSp         -0.035322\n",
       "Parch          0.081629\n",
       "Fare           0.257307\n",
       "dtype: float64"
      ]
     },
     "execution_count": 23,
     "metadata": {},
     "output_type": "execute_result"
    }
   ],
   "source": [
    "# Correlation of features with the target\n",
    "\n",
    "train_df.drop('Survived', axis=1).corrwith(train_df['Survived'])"
   ]
  },
  {
   "cell_type": "code",
   "execution_count": 24,
   "metadata": {},
   "outputs": [
    {
     "data": {
      "text/plain": [
       "Pclass         0.338481\n",
       "Fare           0.257307\n",
       "Parch          0.081629\n",
       "Age            0.069809\n",
       "SibSp          0.035322\n",
       "PassengerId    0.005007\n",
       "dtype: float64"
      ]
     },
     "execution_count": 24,
     "metadata": {},
     "output_type": "execute_result"
    }
   ],
   "source": [
    "# Absolute correlation of features with the target\n",
    "\n",
    "train_df.drop('Survived', axis=1).corrwith(train_df['Survived']).abs().sort_values(ascending=False)"
   ]
  },
  {
   "cell_type": "markdown",
   "metadata": {
    "_uuid": "410a8017f065abc6ca809debe6d6314e29d9ec46",
    "id": "LWXUggWPlbAw"
   },
   "source": [
    "*Example:*\n",
    "From the total female passengers, *n*% survived.  \n",
    "In the same time, from the total male passengers, only m% survived."
   ]
  },
  {
   "cell_type": "code",
   "execution_count": 25,
   "metadata": {},
   "outputs": [
    {
     "name": "stdout",
     "output_type": "stream",
     "text": [
      "From the total passengers 38.38383838383838% survived \n",
      "\n",
      "From the total passengers 68.12865497076024% females and 31.871345029239766% males survived \n",
      "\n",
      "From the total female passengers 74.20382165605095% survived, whereas from the total male passengers only 18.890814558058924% survived\n"
     ]
    }
   ],
   "source": [
    "# Percentage of survived passengers\n",
    "\n",
    "print('From the total passengers {}% survived \\n'.format(train_df['Survived'].value_counts(normalize=True)[train_df['Survived'] == 1].tolist()[0]*100))\n",
    "print('From the total passengers {}% females and {}% males survived \\n'.format(\n",
    "    train_df['Sex'].where(train_df['Survived'] == 1).value_counts(normalize=True).tolist()[0]*100,\n",
    "    train_df['Sex'].where(train_df['Survived'] == 1).value_counts(normalize=True).tolist()[1]*100))\n",
    "print('From the total female passengers {}% survived, whereas from the total male passengers only {}% survived'.format(\n",
    "    train_df['Survived'].where(train_df['Sex'] == 'female').value_counts(normalize=True)[train_df['Survived'] == 1].tolist()[0]*100,\n",
    "    train_df['Survived'].where(train_df['Sex'] == 'male').value_counts(normalize=True)[train_df['Survived'] == 1].tolist()[0]*100))"
   ]
  },
  {
   "cell_type": "code",
   "execution_count": 26,
   "metadata": {},
   "outputs": [
    {
     "name": "stdout",
     "output_type": "stream",
     "text": [
      "Number of passengers in 1 class: 216\n",
      "Number of passengers in 2 class: 184\n",
      "Number of passengers in 3 class: 491\n",
      "There were more male passengers in the most popular class\n"
     ]
    }
   ],
   "source": [
    "# Distribution of passengers in different classes\n",
    "\n",
    "print('Number of passengers in 1 class:', train_df['Pclass'].value_counts()[train_df['Pclass'].value_counts().keys() == 1].tolist()[0])\n",
    "print('Number of passengers in 2 class:', train_df['Pclass'].value_counts()[train_df['Pclass'].value_counts().keys() == 2].tolist()[0])\n",
    "print('Number of passengers in 3 class:', train_df['Pclass'].value_counts()[train_df['Pclass'].value_counts().keys() == 3].tolist()[0])\n",
    "print('There were more {} passengers in the most popular class'.format(train_df[train_df['Pclass'] == train_df['Pclass'].value_counts().keys()[0]]['Sex'].value_counts().keys()[0]))"
   ]
  },
  {
   "cell_type": "code",
   "execution_count": 27,
   "metadata": {},
   "outputs": [
    {
     "data": {
      "image/png": "[encoded data removed]",
      "text/plain": [
       "<Figure size 720x504 with 1 Axes>"
      ]
     },
     "metadata": {
      "needs_background": "light"
     },
     "output_type": "display_data"
    }
   ],
   "source": [
    "plt.figure(figsize=(10, 7))\n",
    "plt.title('Distribution of ticket prices upon boarding at different ports')\n",
    "plt.hist(train_df[train_df['Embarked'] == 'C']['Fare'], bins=30)\n",
    "plt.hist(train_df[train_df['Embarked'] == 'Q']['Fare'], bins=30)\n",
    "plt.hist(train_df[train_df['Embarked'] == 'S']['Fare'], bins=30)\n",
    "plt.xlabel('Passenger fare')\n",
    "plt.ylabel('Number of passengers')\n",
    "plt.legend(['Cherbourg', 'Queenstown', 'Southampton'])\n",
    "plt.show()"
   ]
  },
  {
   "cell_type": "code",
   "execution_count": 28,
   "metadata": {},
   "outputs": [
    {
     "data": {
      "image/png": "[encoded data removed]",
      "text/plain": [
       "<Figure size 504x288 with 1 Axes>"
      ]
     },
     "metadata": {
      "needs_background": "light"
     },
     "output_type": "display_data"
    },
    {
     "data": {
      "image/png": "[encoded data removed]",
      "text/plain": [
       "<Figure size 504x288 with 1 Axes>"
      ]
     },
     "metadata": {
      "needs_background": "light"
     },
     "output_type": "display_data"
    },
    {
     "data": {
      "image/png": "[encoded data removed]",
      "text/plain": [
       "<Figure size 504x288 with 1 Axes>"
      ]
     },
     "metadata": {
      "needs_background": "light"
     },
     "output_type": "display_data"
    }
   ],
   "source": [
    "plt.figure(figsize=(7, 4))\n",
    "plt.title('Distribution of ticket prices upon boarding at the port in Cherbourg')\n",
    "plt.hist(train_df[train_df['Embarked'] == 'C']['Fare'], bins=10)\n",
    "plt.xlabel('Passenger fare')\n",
    "plt.ylabel('Number of passengers')\n",
    "plt.show()\n",
    "\n",
    "plt.figure(figsize=(7, 4))\n",
    "plt.title('Distribution of ticket prices upon boarding at the port in Queenstown')\n",
    "plt.hist(train_df[train_df['Embarked'] == 'Q']['Fare'], bins=10)\n",
    "plt.xlabel('Passenger fare')\n",
    "plt.ylabel('Number of passengers')\n",
    "plt.show()\n",
    "\n",
    "plt.figure(figsize=(7, 4))\n",
    "plt.title('Distribution of ticket prices upon boarding at the port in Southampton')\n",
    "plt.hist(train_df[train_df['Embarked'] == 'S']['Fare'], bins=10)\n",
    "plt.xlabel('Passenger fare')\n",
    "plt.ylabel('Number of passengers')\n",
    "plt.show()"
   ]
  },
  {
   "cell_type": "code",
   "execution_count": 29,
   "metadata": {},
   "outputs": [
    {
     "data": {
      "image/png": "[encoded data removed]",
      "text/plain": [
       "<Figure size 720x360 with 1 Axes>"
      ]
     },
     "metadata": {
      "needs_background": "light"
     },
     "output_type": "display_data"
    }
   ],
   "source": [
    "plt.figure(figsize=(10,5))\n",
    "plt.title('Dependence of the ticket price on the age of passengers')\n",
    "plt.scatter(train_df[train_df['Survived'] == 1]['Age'], train_df[train_df['Survived'] == 1]['Fare'], color='green')\n",
    "plt.scatter(train_df[train_df['Survived'] == 0]['Age'], train_df[train_df['Survived'] == 0]['Fare'], color='red')\n",
    "plt.xlabel('Age')\n",
    "plt.ylabel('Passenger fare')\n",
    "plt.legend(['Survived', 'Not survived'])\n",
    "plt.show()"
   ]
  },
  {
   "cell_type": "code",
   "execution_count": 30,
   "metadata": {},
   "outputs": [
    {
     "data": {
      "image/png": "[encoded data removed]",
      "text/plain": [
       "<Figure size 720x504 with 1 Axes>"
      ]
     },
     "metadata": {
      "needs_background": "light"
     },
     "output_type": "display_data"
    }
   ],
   "source": [
    "df = train_df.groupby(['Pclass', 'Survived'])['Pclass'].aggregate('count').unstack().plot.bar(rot=0, figsize=(10,7), color=['red', 'green'])\n",
    "plt.title('Dependence of passenger survival on the ticket class')\n",
    "plt.xlabel('Class')\n",
    "plt.ylabel('Number of passengers')\n",
    "plt.legend(['Not survived', 'Survived'])\n",
    "plt.show()"
   ]
  },
  {
   "cell_type": "code",
   "execution_count": 31,
   "metadata": {},
   "outputs": [
    {
     "data": {
      "image/png": "[encoded data removed]",
      "text/plain": [
       "<Figure size 360x288 with 1 Axes>"
      ]
     },
     "metadata": {
      "needs_background": "light"
     },
     "output_type": "display_data"
    },
    {
     "data": {
      "image/png": "[encoded data removed]",
      "text/plain": [
       "<Figure size 360x288 with 1 Axes>"
      ]
     },
     "metadata": {
      "needs_background": "light"
     },
     "output_type": "display_data"
    },
    {
     "data": {
      "image/png": "[encoded data removed]",
      "text/plain": [
       "<Figure size 360x288 with 1 Axes>"
      ]
     },
     "metadata": {
      "needs_background": "light"
     },
     "output_type": "display_data"
    },
    {
     "data": {
      "image/png": "[encoded data removed]",
      "text/plain": [
       "<Figure size 360x288 with 1 Axes>"
      ]
     },
     "metadata": {
      "needs_background": "light"
     },
     "output_type": "display_data"
    },
    {
     "data": {
      "image/png": "[encoded data removed]",
      "text/plain": [
       "<Figure size 360x288 with 1 Axes>"
      ]
     },
     "metadata": {
      "needs_background": "light"
     },
     "output_type": "display_data"
    }
   ],
   "source": [
    "columns = train_df.columns.drop(['PassengerId', 'Name', 'Age', 'Ticket', 'Fare'])\n",
    "df = train_df[columns]\n",
    "\n",
    "for column in columns.drop('Survived'):\n",
    "    plt.figure(figsize=(5, 4))\n",
    "    sns.countplot(x=column, data=df, hue='Survived')\n",
    "    plt.title(label=f'Distribution of passenger survival by {column}', fontsize=15)"
   ]
  },
  {
   "cell_type": "code",
   "execution_count": 32,
   "metadata": {},
   "outputs": [
    {
     "data": {
      "image/png": "[encoded data removed]",
      "text/plain": [
       "<Figure size 430.5x360 with 1 Axes>"
      ]
     },
     "metadata": {
      "needs_background": "light"
     },
     "output_type": "display_data"
    }
   ],
   "source": [
    "df = train_df.groupby(['Age', 'Sex']).Survived.sum()\\\n",
    ".reset_index().rename({\n",
    "    'Survived': 'Number of survived passengers'},\n",
    "    axis=1\n",
    ")\n",
    "\n",
    "sns.relplot(data=df,\n",
    "            x='Age',\n",
    "            y='Number of survived passengers',\n",
    "            hue='Sex',\n",
    "            kind='line')\n",
    "_ = plt.title('Distribution of the number of survived passengers by their age and sex', dict(size=14))"
   ]
  },
  {
   "cell_type": "code",
   "execution_count": 33,
   "metadata": {},
   "outputs": [
    {
     "data": {
      "image/png": "[encoded data removed]",
      "text/plain": [
       "<Figure size 360x360 with 1 Axes>"
      ]
     },
     "metadata": {
      "needs_background": "light"
     },
     "output_type": "display_data"
    }
   ],
   "source": [
    "df = train_df.groupby('Age').Survived.sum()\\\n",
    ".reset_index().rename({\n",
    "    'Survived': 'Number of survived passengers'},\n",
    "    axis=1\n",
    ")\n",
    "\n",
    "sns.relplot(data=df,\n",
    "            x='Age',\n",
    "            y='Number of survived passengers',\n",
    "            kind='line')\n",
    "_ = plt.title('Distribution of the number of survived passengers by their age', dict(size=14))"
   ]
  },
  {
   "cell_type": "code",
   "execution_count": 34,
   "metadata": {},
   "outputs": [
    {
     "data": {
      "image/png": "[encoded data removed]",
      "text/plain": [
       "<Figure size 360x360 with 1 Axes>"
      ]
     },
     "metadata": {
      "needs_background": "light"
     },
     "output_type": "display_data"
    }
   ],
   "source": [
    "df = train_df.groupby('Fare').Survived.sum()\\\n",
    ".reset_index().rename({\n",
    "    'Survived': 'Number of survived passengers'},\n",
    "    axis=1\n",
    ")\n",
    "\n",
    "sns.relplot(data=df,\n",
    "            x='Fare',\n",
    "            y='Number of survived passengers',\n",
    "            kind='line')\n",
    "_ = plt.title('Distribution of the number of survived passengers by the ticket price', dict(size=14))"
   ]
  },
  {
   "cell_type": "code",
   "execution_count": 35,
   "metadata": {},
   "outputs": [],
   "source": [
    "# Creating new features\n",
    "\n",
    "train_df['Family'] = train_df['SibSp'] + train_df['Parch'] + 1\n",
    "train_df['HasBigFamily'] = (train_df['Family'] > 3).astype(int)\n",
    "train_df['IsAdult'] = (train_df['Age'] >= 18).astype(int)"
   ]
  },
  {
   "cell_type": "code",
   "execution_count": 36,
   "metadata": {},
   "outputs": [
    {
     "data": {
      "text/plain": [
       "Pclass          0.338481\n",
       "Fare            0.257307\n",
       "IsAdult         0.122239\n",
       "Parch           0.081629\n",
       "Age             0.069809\n",
       "SibSp           0.035322\n",
       "HasBigFamily    0.029945\n",
       "Family          0.016639\n",
       "PassengerId     0.005007\n",
       "dtype: float64"
      ]
     },
     "execution_count": 36,
     "metadata": {},
     "output_type": "execute_result"
    }
   ],
   "source": [
    "# Absolute correlation of features with the target\n",
    "\n",
    "train_df.drop('Survived', axis=1).corrwith(train_df['Survived']).abs().sort_values(ascending=False)"
   ]
  },
  {
   "cell_type": "code",
   "execution_count": 37,
   "metadata": {},
   "outputs": [
    {
     "name": "stdout",
     "output_type": "stream",
     "text": [
      "Number of childen who did not survive: 52\n",
      "Percentage of childen who did not survive: 46.017699115044245%\n",
      "Number of adults who did not survive: 497\n",
      "Percentage of adults who did not survive: 63.88174807197944%\n"
     ]
    }
   ],
   "source": [
    "# Passengers who did not survive depending on their age\n",
    "\n",
    "print('Number of childen who did not survive:', train_df[(train_df['IsAdult'] == 0) & (train_df['Survived'] == 0)]['IsAdult'].count())\n",
    "print('Percentage of childen who did not survive: {}%'.format(train_df[(train_df['IsAdult'] == 0) & (train_df['Survived'] == 0)]['IsAdult'].count()/train_df[(train_df['IsAdult'] == 0)]['IsAdult'].count()*100))\n",
    "print('Number of adults who did not survive:', train_df[(train_df['IsAdult'] == 1) & (train_df['Survived'] == 0)]['IsAdult'].count())\n",
    "print('Percentage of adults who did not survive: {}%'.format(train_df[(train_df['IsAdult'] == 1) & (train_df['Survived'] == 0)]['IsAdult'].count()/train_df[(train_df['IsAdult'] == 1)]['IsAdult'].count()*100))"
   ]
  },
  {
   "cell_type": "code",
   "execution_count": 38,
   "metadata": {},
   "outputs": [
    {
     "name": "stdout",
     "output_type": "stream",
     "text": [
      "The most popular surname: Andersson\n",
      "The most popular surname among women: Andersson\n",
      "The most popular surname among men: Panula\n",
      "The most popular name among men: John\n"
     ]
    }
   ],
   "source": [
    "# Popular names and surnames of passengers\n",
    "\n",
    "print('The most popular surname:', train_df['Name'].str.split(',', expand=True)[0].describe().top)\n",
    "print('The most popular surname among women:', train_df[train_df['Sex'] == 'female']['Name'].str.split(',', expand=True)[0].describe().top)\n",
    "print('The most popular surname among men:', train_df[train_df['Sex'] == 'male']['Name'].str.split(',', expand=True)[0].describe().top)\n",
    "print('The most popular name among men:', train_df[train_df['Sex'] == 'male']['Name'].str.split(' ', n = 2, expand = True)[2].describe().top)\n",
    "\n",
    "# In the last request n = 2, as surnames and statuses (Mr.) are separated by spaces, and the name can be complex (include spaces)\n",
    "# I consider that the name is what is after the comma, but without the status (Mr.)"
   ]
  },
  {
   "cell_type": "code",
   "execution_count": 39,
   "metadata": {},
   "outputs": [
    {
     "data": {
      "image/png": "[encoded data removed]",
      "text/plain": [
       "<Figure size 360x288 with 1 Axes>"
      ]
     },
     "metadata": {
      "needs_background": "light"
     },
     "output_type": "display_data"
    },
    {
     "data": {
      "image/png": "[encoded data removed]",
      "text/plain": [
       "<Figure size 360x288 with 1 Axes>"
      ]
     },
     "metadata": {
      "needs_background": "light"
     },
     "output_type": "display_data"
    },
    {
     "data": {
      "image/png": "[encoded data removed]",
      "text/plain": [
       "<Figure size 360x288 with 1 Axes>"
      ]
     },
     "metadata": {
      "needs_background": "light"
     },
     "output_type": "display_data"
    }
   ],
   "source": [
    "columns = ['Family', 'HasBigFamily', 'IsAdult', 'Survived']\n",
    "df = train_df[columns]\n",
    "\n",
    "for column in columns[:-1]:\n",
    "    plt.figure(figsize=(5, 4))\n",
    "    sns.countplot(x=column, data=df, hue='Survived')\n",
    "    plt.title(label=f'Distribution of passenger survival by {column}', fontsize=15)"
   ]
  },
  {
   "cell_type": "markdown",
   "metadata": {},
   "source": [
    "**Conclusion:**\n",
    "1. Only 38,38% of passengers survived, of which there were 68,13% females and only 31,87% males, despite the fact that there were less women among the total passengers.\n",
    "2. Most of the survivors were about 30 years old.\n",
    "3. Most passengers boarded in Southampton, and there were nearly 2 times more dead passengers, although in other ports the distribution was smoother.\n",
    "4. Most passengers who died were from the 3 class: 3 times more dead passengers than survivors from the same class.\n",
    "5. There were more survivors with cheaper tickets.\n",
    "6. Percentages of survived and dead children are almost the same, while there are around 1,8 times more dead adults than the survived ones. The number of children is almost 10 times less than the number of adults.\n",
    "7. Passengers from 20 to 60 years preferred more expensive tickets."
   ]
  },
  {
   "cell_type": "code",
   "execution_count": 40,
   "metadata": {},
   "outputs": [
    {
     "data": {
      "image/png": "[encoded data removed]",
      "text/plain": [
       "<Figure size 720x504 with 1 Axes>"
      ]
     },
     "metadata": {
      "needs_background": "light"
     },
     "output_type": "display_data"
    }
   ],
   "source": [
    "# Distribution of numerical features\n",
    "\n",
    "columns = ['Age', 'SibSp', 'Parch', 'Fare', 'Family']\n",
    "df = train_df[columns]\n",
    "df.plot.hist(figsize=(10, 7), bins=50, alpha=0.5, title='Distribution of numerical features')\n",
    "plt.ylabel('Numbe of passengers')\n",
    "plt.legend = columns\n",
    "plt.show()"
   ]
  },
  {
   "cell_type": "markdown",
   "metadata": {},
   "source": [
    "Data values of fetures are in different ranges, which is bad from the point of view of machine learning, as it can lead to an uneven distribution of weights.\n",
    "To solve this problem, data needs to be normalized.\n",
    "Normalization solves the problem of a large difference in the scale of data so that it is possible to use data from different columns together without large errors.\n",
    "Normalization creates new data values for numerical columns within the 0-1 scale."
   ]
  },
  {
   "cell_type": "code",
   "execution_count": 41,
   "metadata": {},
   "outputs": [],
   "source": [
    "train_df_normalized = pd.DataFrame(preprocessing.normalize(df), columns=columns)"
   ]
  },
  {
   "cell_type": "code",
   "execution_count": 42,
   "metadata": {},
   "outputs": [
    {
     "data": {
      "image/png": "[encoded data removed]",
      "text/plain": [
       "<Figure size 1080x720 with 1 Axes>"
      ]
     },
     "metadata": {
      "needs_background": "light"
     },
     "output_type": "display_data"
    }
   ],
   "source": [
    "train_df_normalized.plot.hist(figsize=(15, 10), bins=50, alpha=0.5, title='Distribution of numerical features')\n",
    "plt.ylabel('Numbe of passengers')\n",
    "plt.legend = columns\n",
    "plt.show()"
   ]
  },
  {
   "cell_type": "markdown",
   "metadata": {
    "_uuid": "674450c7d711046ece6889cbe2923d4b2217e0ea",
    "id": "ptAx8aEclbA8"
   },
   "source": [
    "\n",
    "## <a id='50'>Split the data</a>  \n",
    "\n",
    "Let's split the training and validation set. We will use a 80-20 split. Don't forget to fix random_state. \n"
   ]
  },
  {
   "cell_type": "markdown",
   "metadata": {},
   "source": [
    "DecisionTreeClassifier and RandomForestClassifier do not require data normalization or scaling because they use a probability function to train the model and do not use any distance metrics."
   ]
  },
  {
   "cell_type": "code",
   "execution_count": 43,
   "metadata": {
    "_kg_hide-input": true,
    "_uuid": "b4bbf9a7175f4bf24bc39192037768cf5926d04a",
    "id": "_3XnQw6BlbA8"
   },
   "outputs": [],
   "source": [
    "#your code is here\n",
    "\n",
    "train, validation = train_test_split(train_df, test_size=0.2, random_state=42)"
   ]
  },
  {
   "cell_type": "markdown",
   "metadata": {
    "_uuid": "87f2054b07681134ab6ce19d46f955fe5217a6d5",
    "id": "czTvS_cClbA8"
   },
   "source": [
    "\n",
    "## <a id='51'>Build a model</a>  "
   ]
  },
  {
   "cell_type": "markdown",
   "metadata": {
    "_uuid": "13d69dc08c0c8efdc4ae890ada0cd0b17f535125",
    "id": "dnGTphxclbA8"
   },
   "source": [
    "We will start with a simple model (baseline), with just two features, the `Sex` and `Pclass`. Create DesicionTreeClassifier and RandomForestClassifier, based on this features, without tuning parameters. \n",
    "\n",
    "Next, create two more complicated models: DesicionTreeClassifier and RandomForestClassifier with adding at least one feature you found useful as a result of your analysis.\n",
    "\n",
    "Find accuracy score for all models. Is it a good idea to use accuracy? Any suggestions about metrics? \n",
    "\n",
    "Then try to tune at least one parameter for every model using grid search and write down features and parameters, which gave you best score. "
   ]
  },
  {
   "cell_type": "code",
   "execution_count": 44,
   "metadata": {
    "id": "jMSkNGtXzg-B"
   },
   "outputs": [],
   "source": [
    "#your code is here\n",
    "\n",
    "from sklearn.tree import DecisionTreeClassifier\n",
    "from sklearn.ensemble import RandomForestClassifier\n",
    "from sklearn.metrics import accuracy_score, precision_score, recall_score, roc_auc_score, f1_score"
   ]
  },
  {
   "cell_type": "code",
   "execution_count": 45,
   "metadata": {},
   "outputs": [],
   "source": [
    "import warnings\n",
    "warnings.simplefilter('ignore')"
   ]
  },
  {
   "cell_type": "markdown",
   "metadata": {},
   "source": [
    "DecisionTreeClassifier and RandomForestClassifier do not need complicated encoding of categorical features, so the latter can be just numered, and this will not distort the result. "
   ]
  },
  {
   "cell_type": "code",
   "execution_count": 46,
   "metadata": {},
   "outputs": [],
   "source": [
    "train['Sex_1'] = train['Sex'].replace(['male', 'female'], [0, 1])\n",
    "validation['Sex_1'] = validation['Sex'].replace(['male', 'female'], [0, 1])"
   ]
  },
  {
   "cell_type": "code",
   "execution_count": 47,
   "metadata": {},
   "outputs": [],
   "source": [
    "X_train = train[['Sex_1', 'Pclass']]\n",
    "y_train = train['Survived']\n",
    "\n",
    "X_test = validation[['Sex_1', 'Pclass']]\n",
    "y_test = validation['Survived']"
   ]
  },
  {
   "cell_type": "code",
   "execution_count": 48,
   "metadata": {},
   "outputs": [
    {
     "name": "stdout",
     "output_type": "stream",
     "text": [
      "Accuracy score for DecisionTreeClassifier: 0.7653631284916201\n",
      "Precision score for DecisionTreeClassifier: 0.9\n",
      "Recall score for DecisionTreeClassifier: 0.4864864864864865\n",
      "ROC AUC score for DecisionTreeClassifier: 0.7241956241956242\n",
      "f1-score for DecisionTreeClassifier: 0.631578947368421\n"
     ]
    }
   ],
   "source": [
    "tree = DecisionTreeClassifier(random_state=42)\n",
    "tree.fit(X_train, y_train)\n",
    "y_pred_tree = tree.predict(X_test)\n",
    "\n",
    "print('Accuracy score for DecisionTreeClassifier:', accuracy_score(y_test, y_pred_tree))\n",
    "print('Precision score for DecisionTreeClassifier:', precision_score(y_test, y_pred_tree))\n",
    "print('Recall score for DecisionTreeClassifier:', recall_score(y_test, y_pred_tree))\n",
    "print('ROC AUC score for DecisionTreeClassifier:', roc_auc_score(y_test, y_pred_tree))\n",
    "print('f1-score for DecisionTreeClassifier:', f1_score(y_test, y_pred_tree))"
   ]
  },
  {
   "cell_type": "code",
   "execution_count": 49,
   "metadata": {},
   "outputs": [
    {
     "name": "stdout",
     "output_type": "stream",
     "text": [
      "Accuracy score for RandomForestClassifier: 0.7653631284916201\n",
      "Precision score for RandomForestClassifier: 0.9\n",
      "Recall score for RandomForestClassifier: 0.4864864864864865\n",
      "ROC AUC score for RandomForestClassifier: 0.7241956241956242\n",
      "f1-score for RandomForestClassifier: 0.631578947368421\n"
     ]
    }
   ],
   "source": [
    "forest = RandomForestClassifier(random_state=42)\n",
    "forest.fit(X_train, y_train)\n",
    "y_pred_forest = forest.predict(X_test)\n",
    "\n",
    "print('Accuracy score for RandomForestClassifier:', accuracy_score(y_test, y_pred_forest))\n",
    "print('Precision score for RandomForestClassifier:', precision_score(y_test, y_pred_forest))\n",
    "print('Recall score for RandomForestClassifier:', recall_score(y_test, y_pred_forest))\n",
    "print('ROC AUC score for RandomForestClassifier:', roc_auc_score(y_test, y_pred_forest))\n",
    "print('f1-score for RandomForestClassifier:', f1_score(y_test, y_pred_forest))"
   ]
  },
  {
   "cell_type": "markdown",
   "metadata": {},
   "source": [
    "Definition of correlation of festures with the target:"
   ]
  },
  {
   "cell_type": "code",
   "execution_count": 50,
   "metadata": {},
   "outputs": [
    {
     "data": {
      "text/plain": [
       "Pclass          0.338481\n",
       "Fare            0.257307\n",
       "IsAdult         0.122239\n",
       "Parch           0.081629\n",
       "Age             0.069809\n",
       "SibSp           0.035322\n",
       "HasBigFamily    0.029945\n",
       "Family          0.016639\n",
       "PassengerId     0.005007\n",
       "dtype: float64"
      ]
     },
     "execution_count": 50,
     "metadata": {},
     "output_type": "execute_result"
    }
   ],
   "source": [
    "# Absolute correlation of features with the target\n",
    "\n",
    "train_df.drop('Survived', axis=1).corrwith(train_df['Survived']).abs().sort_values(ascending=False)"
   ]
  },
  {
   "cell_type": "markdown",
   "metadata": {},
   "source": [
    "Adding Fare and IsAdult features, as they have realtively high correlation with the target:"
   ]
  },
  {
   "cell_type": "code",
   "execution_count": 51,
   "metadata": {},
   "outputs": [],
   "source": [
    "X_train_1 = train[['Sex_1', 'Pclass', 'Fare', 'IsAdult']]\n",
    "X_test_1 = validation[['Sex_1', 'Pclass', 'Fare', 'IsAdult']]"
   ]
  },
  {
   "cell_type": "code",
   "execution_count": 52,
   "metadata": {},
   "outputs": [
    {
     "name": "stdout",
     "output_type": "stream",
     "text": [
      "Accuracy score for DecisionTreeClassifier: 0.8268156424581006\n",
      "Precision score for DecisionTreeClassifier: 0.8208955223880597\n",
      "Recall score for DecisionTreeClassifier: 0.7432432432432432\n",
      "ROC AUC score for DecisionTreeClassifier: 0.8144787644787644\n",
      "f1-score for DecisionTreeClassifier: 0.7801418439716312\n"
     ]
    }
   ],
   "source": [
    "tree = DecisionTreeClassifier(random_state=42)\n",
    "tree.fit(X_train_1, y_train)\n",
    "y_pred_tree = tree.predict(X_test_1)\n",
    "\n",
    "print('Accuracy score for DecisionTreeClassifier:', accuracy_score(y_test, y_pred_tree))\n",
    "print('Precision score for DecisionTreeClassifier:', precision_score(y_test, y_pred_tree))\n",
    "print('Recall score for DecisionTreeClassifier:', recall_score(y_test, y_pred_tree))\n",
    "print('ROC AUC score for DecisionTreeClassifier:', roc_auc_score(y_test, y_pred_tree))\n",
    "print('f1-score for DecisionTreeClassifier:', f1_score(y_test, y_pred_tree))"
   ]
  },
  {
   "cell_type": "code",
   "execution_count": 53,
   "metadata": {},
   "outputs": [
    {
     "name": "stdout",
     "output_type": "stream",
     "text": [
      "Accuracy score for RandomForestClassifier: 0.8324022346368715\n",
      "Precision score for RandomForestClassifier: 0.8055555555555556\n",
      "Recall score for RandomForestClassifier: 0.7837837837837838\n",
      "ROC AUC score for RandomForestClassifier: 0.8252252252252252\n",
      "f1-score for RandomForestClassifier: 0.7945205479452055\n"
     ]
    }
   ],
   "source": [
    "forest = RandomForestClassifier(random_state=42)\n",
    "forest.fit(X_train_1, y_train)\n",
    "y_pred_forest = forest.predict(X_test_1)\n",
    "\n",
    "print('Accuracy score for RandomForestClassifier:', accuracy_score(y_test, y_pred_forest))\n",
    "print('Precision score for RandomForestClassifier:', precision_score(y_test, y_pred_forest))\n",
    "print('Recall score for RandomForestClassifier:', recall_score(y_test, y_pred_forest))\n",
    "print('ROC AUC score for RandomForestClassifier:', roc_auc_score(y_test, y_pred_forest))\n",
    "print('f1-score for RandomForestClassifier:', f1_score(y_test, y_pred_forest))"
   ]
  },
  {
   "cell_type": "markdown",
   "metadata": {},
   "source": [
    "Definition of feature importances with the special funcrion:"
   ]
  },
  {
   "cell_type": "code",
   "execution_count": 54,
   "metadata": {},
   "outputs": [],
   "source": [
    "train['Embarked_1'] = train['Embarked'].replace(['S', 'C', 'Q'], [0, 1, 2])\n",
    "validation['Embarked_1'] = validation['Embarked'].replace(['S', 'C', 'Q'], [0, 1, 2])"
   ]
  },
  {
   "cell_type": "code",
   "execution_count": 55,
   "metadata": {},
   "outputs": [],
   "source": [
    "features = ['Sex_1', 'Pclass', 'Fare', 'Age', 'SibSp', 'Parch', 'Embarked_1', 'IsAdult', 'Family', 'HasBigFamily']\n",
    "X_train_2 = train[features]\n",
    "X_test_2 = validation[features]"
   ]
  },
  {
   "cell_type": "code",
   "execution_count": 56,
   "metadata": {},
   "outputs": [
    {
     "name": "stdout",
     "output_type": "stream",
     "text": [
      "Feature: Sex_1, importance for DecisionTreeClassifier: 0.3089770430772988\n",
      "Feature: Pclass, importance for DecisionTreeClassifier: 0.12266586037891462\n",
      "Feature: Fare, importance for DecisionTreeClassifier: 0.23221439755531084\n",
      "Feature: Age, importance for DecisionTreeClassifier: 0.21877683571393122\n",
      "Feature: SibSp, importance for DecisionTreeClassifier: 0.029090880708682605\n",
      "Feature: Parch, importance for DecisionTreeClassifier: 0.011014175230438317\n",
      "Feature: Embarked_1, importance for DecisionTreeClassifier: 0.01335712573675098\n",
      "Feature: IsAdult, importance for DecisionTreeClassifier: 0.0014998257927063842\n",
      "Feature: Family, importance for DecisionTreeClassifier: 0.05389984356132106\n",
      "Feature: HasBigFamily, importance for DecisionTreeClassifier: 0.008504012244645183\n"
     ]
    },
    {
     "data": {
      "image/png": "[encoded data removed]",
      "text/plain": [
       "<Figure size 432x288 with 1 Axes>"
      ]
     },
     "metadata": {
      "needs_background": "light"
     },
     "output_type": "display_data"
    }
   ],
   "source": [
    "tree = DecisionTreeClassifier(random_state=42)\n",
    "tree.fit(X_train_2, y_train)\n",
    "importances_tree = tree.feature_importances_\n",
    "df = pd.DataFrame({'importance': importances_tree}, index=features)\n",
    "df.plot.bar()\n",
    "\n",
    "for feature, importance in zip(features, importances_tree):\n",
    "    print('Feature: {}, importance for DecisionTreeClassifier: {}'.format(feature, importance))"
   ]
  },
  {
   "cell_type": "code",
   "execution_count": 57,
   "metadata": {},
   "outputs": [
    {
     "name": "stdout",
     "output_type": "stream",
     "text": [
      "Feature: Sex_1, importance for RandomForestClassifier: 0.2716299521506095\n",
      "Feature: Pclass, importance for RandomForestClassifier: 0.0762709294547036\n",
      "Feature: Fare, importance for RandomForestClassifier: 0.2560198226348078\n",
      "Feature: Age, importance for RandomForestClassifier: 0.2320283463474118\n",
      "Feature: SibSp, importance for RandomForestClassifier: 0.03285632825637675\n",
      "Feature: Parch, importance for RandomForestClassifier: 0.02189388098195534\n",
      "Feature: Embarked_1, importance for RandomForestClassifier: 0.03351237289086651\n",
      "Feature: IsAdult, importance for RandomForestClassifier: 0.017524392057154982\n",
      "Feature: Family, importance for RandomForestClassifier: 0.05004484372904592\n",
      "Feature: HasBigFamily, importance for RandomForestClassifier: 0.008219131497067836\n"
     ]
    },
    {
     "data": {
      "image/png": "[encoded data removed]",
      "text/plain": [
       "<Figure size 432x288 with 1 Axes>"
      ]
     },
     "metadata": {
      "needs_background": "light"
     },
     "output_type": "display_data"
    }
   ],
   "source": [
    "forest = RandomForestClassifier(random_state=42)\n",
    "forest.fit(X_train_2, y_train)\n",
    "importances_forest = forest.feature_importances_\n",
    "df = pd.DataFrame({'importance': importances_forest}, index=features)\n",
    "df.plot.bar()\n",
    "\n",
    "for feature, importance in zip(features, importances_forest):\n",
    "    print('Feature: {}, importance for RandomForestClassifier: {}'.format(feature, importance))\n"
   ]
  },
  {
   "cell_type": "code",
   "execution_count": 58,
   "metadata": {},
   "outputs": [
    {
     "data": {
      "image/png": "[encoded data removed]",
      "text/plain": [
       "<Figure size 432x288 with 1 Axes>"
      ]
     },
     "metadata": {
      "needs_background": "light"
     },
     "output_type": "display_data"
    }
   ],
   "source": [
    "df = pd.DataFrame({'importance for DecisionTreeClassifier': importances_tree, 'importance for RandomForestClassifier': importances_forest}, index=features)\n",
    "_ = df.plot.bar()"
   ]
  },
  {
   "cell_type": "code",
   "execution_count": 59,
   "metadata": {},
   "outputs": [],
   "source": [
    "X_train_3 = train[['Sex_1', 'Pclass', 'Fare', 'Age']]\n",
    "X_test_3 = validation[['Sex_1', 'Pclass', 'Fare', 'Age']]"
   ]
  },
  {
   "cell_type": "code",
   "execution_count": 60,
   "metadata": {},
   "outputs": [
    {
     "name": "stdout",
     "output_type": "stream",
     "text": [
      "Accuracy score for DecisionTreeClassifier: 0.7374301675977654\n",
      "Precision score for DecisionTreeClassifier: 0.6753246753246753\n",
      "Recall score for DecisionTreeClassifier: 0.7027027027027027\n",
      "ROC AUC score for DecisionTreeClassifier: 0.7323037323037322\n",
      "f1-score for DecisionTreeClassifier: 0.6887417218543046\n"
     ]
    }
   ],
   "source": [
    "tree = DecisionTreeClassifier(random_state=42)\n",
    "tree.fit(X_train_3, y_train)\n",
    "y_pred_tree = tree.predict(X_test_3)\n",
    "\n",
    "print('Accuracy score for DecisionTreeClassifier:', accuracy_score(y_test, y_pred_tree))\n",
    "print('Precision score for DecisionTreeClassifier:', precision_score(y_test, y_pred_tree))\n",
    "print('Recall score for DecisionTreeClassifier:', recall_score(y_test, y_pred_tree))\n",
    "print('ROC AUC score for DecisionTreeClassifier:', roc_auc_score(y_test, y_pred_tree))\n",
    "print('f1-score for DecisionTreeClassifier:', f1_score(y_test, y_pred_tree))"
   ]
  },
  {
   "cell_type": "code",
   "execution_count": 61,
   "metadata": {},
   "outputs": [
    {
     "name": "stdout",
     "output_type": "stream",
     "text": [
      "Accuracy score for RandomForestClassifier: 0.7932960893854749\n",
      "Precision score for RandomForestClassifier: 0.7681159420289855\n",
      "Recall score for RandomForestClassifier: 0.7162162162162162\n",
      "ROC AUC score for RandomForestClassifier: 0.781917631917632\n",
      "f1-score for RandomForestClassifier: 0.7412587412587412\n"
     ]
    }
   ],
   "source": [
    "forest = RandomForestClassifier(random_state=42)\n",
    "forest.fit(X_train_3, y_train)\n",
    "y_pred_forest = forest.predict(X_test_3)\n",
    "\n",
    "print('Accuracy score for RandomForestClassifier:', accuracy_score(y_test, y_pred_forest))\n",
    "print('Precision score for RandomForestClassifier:', precision_score(y_test, y_pred_forest))\n",
    "print('Recall score for RandomForestClassifier:', recall_score(y_test, y_pred_forest))\n",
    "print('ROC AUC score for RandomForestClassifier:', roc_auc_score(y_test, y_pred_forest))\n",
    "print('f1-score for RandomForestClassifier:', f1_score(y_test, y_pred_forest))"
   ]
  },
  {
   "cell_type": "code",
   "execution_count": 62,
   "metadata": {},
   "outputs": [
    {
     "name": "stdout",
     "output_type": "stream",
     "text": [
      "Accuracy score for DecisionTreeClassifier: 0.7932960893854749\n",
      "Precision score for DecisionTreeClassifier: 0.7846153846153846\n",
      "Recall score for DecisionTreeClassifier: 0.6891891891891891\n",
      "ROC AUC score for DecisionTreeClassifier: 0.7779279279279279\n",
      "f1-score for DecisionTreeClassifier: 0.7338129496402878\n",
      "The best parameters for DecisionTreeClassifier: {'max_depth': 3, 'min_samples_split': 23}\n"
     ]
    }
   ],
   "source": [
    "tree_parameters = GridSearchCV(DecisionTreeClassifier(random_state=42), param_grid={'max_depth': range(1, 20),'min_samples_split': range(1, 30, 2)})\n",
    "tree_parameters.fit(X_train_3, y_train)\n",
    "tree_parameters.predict(X_test_3)\n",
    "tree_parameters_best = tree_parameters.best_params_\n",
    "\n",
    "tree = DecisionTreeClassifier(max_depth=tree_parameters_best['max_depth'], min_samples_split=tree_parameters_best['min_samples_split'])\n",
    "tree.fit(X_train_3, y_train)\n",
    "y_pred_tree = tree.predict(X_test_3)\n",
    "\n",
    "print('Accuracy score for DecisionTreeClassifier:', accuracy_score(y_test, y_pred_tree))\n",
    "print('Precision score for DecisionTreeClassifier:', precision_score(y_test, y_pred_tree))\n",
    "print('Recall score for DecisionTreeClassifier:', recall_score(y_test, y_pred_tree))\n",
    "print('ROC AUC score for DecisionTreeClassifier:', roc_auc_score(y_test, y_pred_tree))\n",
    "print('f1-score for DecisionTreeClassifier:', f1_score(y_test, y_pred_tree))\n",
    "print('The best parameters for DecisionTreeClassifier:', tree_parameters_best)"
   ]
  },
  {
   "cell_type": "code",
   "execution_count": 63,
   "metadata": {},
   "outputs": [],
   "source": [
    "from sklearn.tree import plot_tree"
   ]
  },
  {
   "cell_type": "code",
   "execution_count": 64,
   "metadata": {},
   "outputs": [
    {
     "data": {
      "image/png": "[encoded data removed]",
      "text/plain": [
       "<Figure size 2160x720 with 1 Axes>"
      ]
     },
     "metadata": {
      "needs_background": "light"
     },
     "output_type": "display_data"
    }
   ],
   "source": [
    "plt.figure(figsize=(30,10))\n",
    "plot_tree(tree, feature_names=['Sex_1', 'Pclass', 'Fare', 'Age'], fontsize = 15)\n",
    "plt.title('Decision tree', fontsize = 15);"
   ]
  },
  {
   "cell_type": "code",
   "execution_count": 65,
   "metadata": {},
   "outputs": [
    {
     "name": "stdout",
     "output_type": "stream",
     "text": [
      "Accuracy score for RandomForestClassifier: 0.7932960893854749\n",
      "Precision score for RandomForestClassifier: 0.7846153846153846\n",
      "Recall score for RandomForestClassifier: 0.6891891891891891\n",
      "ROC AUC score for RandomForestClassifier: 0.7779279279279279\n",
      "f1-score for RandomForestClassifier: 0.7338129496402878\n",
      "The best parameters for RandomForestClassifier: {'max_depth': 13, 'min_samples_split': 19, 'n_estimators': 30}\n"
     ]
    }
   ],
   "source": [
    "forest_parameters = GridSearchCV(RandomForestClassifier(random_state=42), param_grid={'n_estimators': range(10, 100, 5), 'max_depth': range(1, 20),'min_samples_split': range(1, 30, 2)})\n",
    "forest_parameters.fit(X_train_3, y_train)\n",
    "forest_parameters.predict(X_test_3)\n",
    "forest_parameters_best = forest_parameters.best_params_\n",
    "\n",
    "forest = RandomForestClassifier(n_estimators=forest_parameters_best['n_estimators'], max_depth=forest_parameters_best['max_depth'], min_samples_split=forest_parameters_best['min_samples_split'])\n",
    "forest.fit(X_train_3, y_train)\n",
    "y_pred_forest = tree.predict(X_test_3)\n",
    "\n",
    "print('Accuracy score for RandomForestClassifier:', accuracy_score(y_test, y_pred_forest))\n",
    "print('Precision score for RandomForestClassifier:', precision_score(y_test, y_pred_forest))\n",
    "print('Recall score for RandomForestClassifier:', recall_score(y_test, y_pred_forest))\n",
    "print('ROC AUC score for RandomForestClassifier:', roc_auc_score(y_test, y_pred_forest))\n",
    "print('f1-score for RandomForestClassifier:', f1_score(y_test, y_pred_forest))\n",
    "print('The best parameters for RandomForestClassifier:', forest_parameters_best)"
   ]
  },
  {
   "cell_type": "markdown",
   "metadata": {},
   "source": [
    "**Conclusion:**\n",
    "1. Accuracy shows the proportion of correct predictions of the algorithm out of all predictions, this metric is useless in tasks with unequal classes.\n",
    "2. Precision shows the proportion of really positive objects out of all objects considered as positive by the classifier.\n",
    "3. Recall demonstrates the proportion of positive objects that are found by the algorithm out of all positive objects.\n",
    "4. Precision and Recall do not depend on proportion of classes, that is why these metrics are applicable to unbalanced samples of data.\n",
    "5. ROC AUC is the area under the curve of errors which takes into account both Precision and Recall metrics.\n",
    "6. F1-score is a weighted harmonic mean of Precision and Recall scores, so it also takes into consideration these both metrics."
   ]
  },
  {
   "cell_type": "markdown",
   "metadata": {},
   "source": [
    "Checking predictions on test data:"
   ]
  },
  {
   "cell_type": "code",
   "execution_count": 66,
   "metadata": {},
   "outputs": [],
   "source": [
    "test_df['Sex_1'] = test_df['Sex'].replace(['male', 'female'], [0, 1])"
   ]
  },
  {
   "cell_type": "code",
   "execution_count": 67,
   "metadata": {},
   "outputs": [],
   "source": [
    "test_df_new = test_df[['Sex_1', 'Pclass', 'Fare', 'Age']]"
   ]
  },
  {
   "cell_type": "code",
   "execution_count": 68,
   "metadata": {},
   "outputs": [],
   "source": [
    "tree_test = DecisionTreeClassifier(max_depth=tree_parameters_best['max_depth'], min_samples_split=tree_parameters_best['min_samples_split'])\n",
    "tree_test.fit(X_train_3, y_train)\n",
    "y_pred_tree_test = tree_test.predict(test_df_new)"
   ]
  },
  {
   "cell_type": "code",
   "execution_count": 69,
   "metadata": {},
   "outputs": [],
   "source": [
    "test_df['Survived_predicted_tree'] = y_pred_tree_test"
   ]
  },
  {
   "cell_type": "code",
   "execution_count": 70,
   "metadata": {},
   "outputs": [],
   "source": [
    "forest_test = RandomForestClassifier(n_estimators=forest_parameters_best['n_estimators'], max_depth=forest_parameters_best['max_depth'], min_samples_split=forest_parameters_best['min_samples_split'])\n",
    "forest_test.fit(X_train_3, y_train)\n",
    "y_pred_forest_test = tree.predict(test_df_new)"
   ]
  },
  {
   "cell_type": "code",
   "execution_count": 71,
   "metadata": {},
   "outputs": [],
   "source": [
    "test_df['Survived_predicted_forest'] = y_pred_forest_test"
   ]
  },
  {
   "cell_type": "code",
   "execution_count": 72,
   "metadata": {},
   "outputs": [
    {
     "data": {
      "text/plain": [
       "Survived_predicted_tree  Survived_predicted_forest\n",
       "0                        0                            266\n",
       "1                        1                            152\n",
       "dtype: int64"
      ]
     },
     "execution_count": 72,
     "metadata": {},
     "output_type": "execute_result"
    }
   ],
   "source": [
    "test_df[['Survived_predicted_tree', 'Survived_predicted_forest']].value_counts()"
   ]
  },
  {
   "cell_type": "markdown",
   "metadata": {},
   "source": [
    "According to results above, all the predictions on test data by DecisionTreeClassifier and RandomForestClassifier match."
   ]
  },
  {
   "cell_type": "markdown",
   "metadata": {},
   "source": [
    "One hot encoding for categorical features can be used by OneHotEncoder or get_dummies:"
   ]
  },
  {
   "cell_type": "code",
   "execution_count": 85,
   "metadata": {},
   "outputs": [],
   "source": [
    "sex = pd.get_dummies(train_df['Sex'])"
   ]
  },
  {
   "cell_type": "code",
   "execution_count": 98,
   "metadata": {},
   "outputs": [],
   "source": [
    "train_df_encoding = pd.concat((sex, train_df[['Pclass', 'Fare', 'Age']]), axis=1)"
   ]
  },
  {
   "cell_type": "code",
   "execution_count": 99,
   "metadata": {},
   "outputs": [
    {
     "data": {
      "text/html": [
       "<div>\n",
       "<style scoped>\n",
       "    .dataframe tbody tr th:only-of-type {\n",
       "        vertical-align: middle;\n",
       "    }\n",
       "\n",
       "    .dataframe tbody tr th {\n",
       "        vertical-align: top;\n",
       "    }\n",
       "\n",
       "    .dataframe thead th {\n",
       "        text-align: right;\n",
       "    }\n",
       "</style>\n",
       "<table border=\"1\" class=\"dataframe\">\n",
       "  <thead>\n",
       "    <tr style=\"text-align: right;\">\n",
       "      <th></th>\n",
       "      <th>female</th>\n",
       "      <th>male</th>\n",
       "      <th>Pclass</th>\n",
       "      <th>Fare</th>\n",
       "      <th>Age</th>\n",
       "    </tr>\n",
       "  </thead>\n",
       "  <tbody>\n",
       "    <tr>\n",
       "      <th>0</th>\n",
       "      <td>0</td>\n",
       "      <td>1</td>\n",
       "      <td>3</td>\n",
       "      <td>7.2500</td>\n",
       "      <td>22.000000</td>\n",
       "    </tr>\n",
       "    <tr>\n",
       "      <th>1</th>\n",
       "      <td>1</td>\n",
       "      <td>0</td>\n",
       "      <td>1</td>\n",
       "      <td>71.2833</td>\n",
       "      <td>38.000000</td>\n",
       "    </tr>\n",
       "    <tr>\n",
       "      <th>2</th>\n",
       "      <td>1</td>\n",
       "      <td>0</td>\n",
       "      <td>3</td>\n",
       "      <td>7.9250</td>\n",
       "      <td>26.000000</td>\n",
       "    </tr>\n",
       "    <tr>\n",
       "      <th>3</th>\n",
       "      <td>1</td>\n",
       "      <td>0</td>\n",
       "      <td>1</td>\n",
       "      <td>53.1000</td>\n",
       "      <td>35.000000</td>\n",
       "    </tr>\n",
       "    <tr>\n",
       "      <th>4</th>\n",
       "      <td>0</td>\n",
       "      <td>1</td>\n",
       "      <td>3</td>\n",
       "      <td>8.0500</td>\n",
       "      <td>35.000000</td>\n",
       "    </tr>\n",
       "    <tr>\n",
       "      <th>...</th>\n",
       "      <td>...</td>\n",
       "      <td>...</td>\n",
       "      <td>...</td>\n",
       "      <td>...</td>\n",
       "      <td>...</td>\n",
       "    </tr>\n",
       "    <tr>\n",
       "      <th>886</th>\n",
       "      <td>0</td>\n",
       "      <td>1</td>\n",
       "      <td>2</td>\n",
       "      <td>13.0000</td>\n",
       "      <td>27.000000</td>\n",
       "    </tr>\n",
       "    <tr>\n",
       "      <th>887</th>\n",
       "      <td>1</td>\n",
       "      <td>0</td>\n",
       "      <td>1</td>\n",
       "      <td>30.0000</td>\n",
       "      <td>19.000000</td>\n",
       "    </tr>\n",
       "    <tr>\n",
       "      <th>888</th>\n",
       "      <td>1</td>\n",
       "      <td>0</td>\n",
       "      <td>3</td>\n",
       "      <td>23.4500</td>\n",
       "      <td>29.699118</td>\n",
       "    </tr>\n",
       "    <tr>\n",
       "      <th>889</th>\n",
       "      <td>0</td>\n",
       "      <td>1</td>\n",
       "      <td>1</td>\n",
       "      <td>30.0000</td>\n",
       "      <td>26.000000</td>\n",
       "    </tr>\n",
       "    <tr>\n",
       "      <th>890</th>\n",
       "      <td>0</td>\n",
       "      <td>1</td>\n",
       "      <td>3</td>\n",
       "      <td>7.7500</td>\n",
       "      <td>32.000000</td>\n",
       "    </tr>\n",
       "  </tbody>\n",
       "</table>\n",
       "<p>891 rows × 5 columns</p>\n",
       "</div>"
      ],
      "text/plain": [
       "     female  male  Pclass     Fare        Age\n",
       "0         0     1       3   7.2500  22.000000\n",
       "1         1     0       1  71.2833  38.000000\n",
       "2         1     0       3   7.9250  26.000000\n",
       "3         1     0       1  53.1000  35.000000\n",
       "4         0     1       3   8.0500  35.000000\n",
       "..      ...   ...     ...      ...        ...\n",
       "886       0     1       2  13.0000  27.000000\n",
       "887       1     0       1  30.0000  19.000000\n",
       "888       1     0       3  23.4500  29.699118\n",
       "889       0     1       1  30.0000  26.000000\n",
       "890       0     1       3   7.7500  32.000000\n",
       "\n",
       "[891 rows x 5 columns]"
      ]
     },
     "execution_count": 99,
     "metadata": {},
     "output_type": "execute_result"
    }
   ],
   "source": [
    "train_df_encoding"
   ]
  },
  {
   "cell_type": "code",
   "execution_count": 101,
   "metadata": {},
   "outputs": [],
   "source": [
    "X_train_4, X_test_4 = train_test_split(train_df_encoding, test_size=0.2, random_state=42)"
   ]
  },
  {
   "cell_type": "code",
   "execution_count": 103,
   "metadata": {},
   "outputs": [
    {
     "name": "stdout",
     "output_type": "stream",
     "text": [
      "Accuracy score for DecisionTreeClassifier: 0.7932960893854749\n",
      "Precision score for DecisionTreeClassifier: 0.7846153846153846\n",
      "Recall score for DecisionTreeClassifier: 0.6891891891891891\n",
      "ROC AUC score for DecisionTreeClassifier: 0.7779279279279279\n",
      "f1-score for DecisionTreeClassifier: 0.7338129496402878\n",
      "The best parameters for DecisionTreeClassifier: {'max_depth': 3, 'min_samples_split': 23}\n"
     ]
    }
   ],
   "source": [
    "tree_parameters = GridSearchCV(DecisionTreeClassifier(random_state=42), param_grid={'max_depth': range(1, 20),'min_samples_split': range(1, 30, 2)})\n",
    "tree_parameters.fit(X_train_4, y_train)\n",
    "tree_parameters.predict(X_test_4)\n",
    "tree_parameters_best = tree_parameters.best_params_\n",
    "\n",
    "tree = DecisionTreeClassifier(max_depth=tree_parameters_best['max_depth'], min_samples_split=tree_parameters_best['min_samples_split'])\n",
    "tree.fit(X_train_4, y_train)\n",
    "y_pred_tree = tree.predict(X_test_4)\n",
    "\n",
    "print('Accuracy score for DecisionTreeClassifier:', accuracy_score(y_test, y_pred_tree))\n",
    "print('Precision score for DecisionTreeClassifier:', precision_score(y_test, y_pred_tree))\n",
    "print('Recall score for DecisionTreeClassifier:', recall_score(y_test, y_pred_tree))\n",
    "print('ROC AUC score for DecisionTreeClassifier:', roc_auc_score(y_test, y_pred_tree))\n",
    "print('f1-score for DecisionTreeClassifier:', f1_score(y_test, y_pred_tree))\n",
    "print('The best parameters for DecisionTreeClassifier:', tree_parameters_best)"
   ]
  },
  {
   "cell_type": "code",
   "execution_count": 104,
   "metadata": {},
   "outputs": [
    {
     "name": "stdout",
     "output_type": "stream",
     "text": [
      "Accuracy score for RandomForestClassifier: 0.7932960893854749\n",
      "Precision score for RandomForestClassifier: 0.7846153846153846\n",
      "Recall score for RandomForestClassifier: 0.6891891891891891\n",
      "ROC AUC score for RandomForestClassifier: 0.7779279279279279\n",
      "f1-score for RandomForestClassifier: 0.7338129496402878\n",
      "The best parameters for RandomForestClassifier: {'max_depth': 8, 'min_samples_split': 3, 'n_estimators': 75}\n"
     ]
    }
   ],
   "source": [
    "forest_parameters = GridSearchCV(RandomForestClassifier(random_state=42), param_grid={'n_estimators': range(10, 100, 5), 'max_depth': range(1, 20),'min_samples_split': range(1, 30, 2)})\n",
    "forest_parameters.fit(X_train_4, y_train)\n",
    "forest_parameters.predict(X_test_4)\n",
    "forest_parameters_best = forest_parameters.best_params_\n",
    "\n",
    "forest = RandomForestClassifier(n_estimators=forest_parameters_best['n_estimators'], max_depth=forest_parameters_best['max_depth'], min_samples_split=forest_parameters_best['min_samples_split'])\n",
    "forest.fit(X_train_4, y_train)\n",
    "y_pred_forest = tree.predict(X_test_4)\n",
    "\n",
    "print('Accuracy score for RandomForestClassifier:', accuracy_score(y_test, y_pred_forest))\n",
    "print('Precision score for RandomForestClassifier:', precision_score(y_test, y_pred_forest))\n",
    "print('Recall score for RandomForestClassifier:', recall_score(y_test, y_pred_forest))\n",
    "print('ROC AUC score for RandomForestClassifier:', roc_auc_score(y_test, y_pred_forest))\n",
    "print('f1-score for RandomForestClassifier:', f1_score(y_test, y_pred_forest))\n",
    "print('The best parameters for RandomForestClassifier:', forest_parameters_best)"
   ]
  }
 ],
 "metadata": {
  "colab": {
   "provenance": []
  },
  "kernelspec": {
   "display_name": "Python 3 (ipykernel)",
   "language": "python",
   "name": "python3"
  },
  "language_info": {
   "codemirror_mode": {
    "name": "ipython",
    "version": 3
   },
   "file_extension": ".py",
   "mimetype": "text/x-python",
   "name": "python",
   "nbconvert_exporter": "python",
   "pygments_lexer": "ipython3",
   "version": "3.9.7"
  }
 },
 "nbformat": 4,
 "nbformat_minor": 1
}
